{
 "cells": [
  {
   "cell_type": "markdown",
   "metadata": {},
   "source": [
    "# [b]Anova Analise de variancia[/b]"
   ]
  },
  {
   "cell_type": "code",
   "execution_count": 1,
   "metadata": {},
   "outputs": [],
   "source": [
    "import pandas as pd\n",
    "\n",
    "arquivo1 = pd.ExcelFile('filosofiadaANOVA.xlsx')\n",
    "dados1 = pd.read_excel(arquivo1,'exp1')\n",
    "dados2 = pd.read_excel(arquivo1,'exp2')\n",
    "dados3 = pd.read_excel(arquivo1,'exp3')\n",
    "dados4 = pd.read_excel(arquivo1,'exp4')\n",
    "dados5 = pd.read_excel(arquivo1,'exp5')\n",
    "dados6 = pd.read_excel(arquivo1,'exp6')\n",
    "\n"
   ]
  },
  {
   "cell_type": "code",
   "execution_count": 2,
   "metadata": {},
   "outputs": [
    {
     "data": {
      "text/html": [
       "<div>\n",
       "<style scoped>\n",
       "    .dataframe tbody tr th:only-of-type {\n",
       "        vertical-align: middle;\n",
       "    }\n",
       "\n",
       "    .dataframe tbody tr th {\n",
       "        vertical-align: top;\n",
       "    }\n",
       "\n",
       "    .dataframe thead th {\n",
       "        text-align: right;\n",
       "    }\n",
       "</style>\n",
       "<table border=\"1\" class=\"dataframe\">\n",
       "  <thead>\n",
       "    <tr style=\"text-align: right;\">\n",
       "      <th></th>\n",
       "      <th>agua</th>\n",
       "      <th>suco</th>\n",
       "      <th>café</th>\n",
       "    </tr>\n",
       "  </thead>\n",
       "  <tbody>\n",
       "    <tr>\n",
       "      <th>count</th>\n",
       "      <td>5.000000</td>\n",
       "      <td>5.000000</td>\n",
       "      <td>5.000000</td>\n",
       "    </tr>\n",
       "    <tr>\n",
       "      <th>mean</th>\n",
       "      <td>20.000000</td>\n",
       "      <td>21.000000</td>\n",
       "      <td>20.800000</td>\n",
       "    </tr>\n",
       "    <tr>\n",
       "      <th>std</th>\n",
       "      <td>10.488088</td>\n",
       "      <td>10.559356</td>\n",
       "      <td>10.401923</td>\n",
       "    </tr>\n",
       "    <tr>\n",
       "      <th>min</th>\n",
       "      <td>10.000000</td>\n",
       "      <td>11.000000</td>\n",
       "      <td>12.000000</td>\n",
       "    </tr>\n",
       "    <tr>\n",
       "      <th>25%</th>\n",
       "      <td>12.000000</td>\n",
       "      <td>14.000000</td>\n",
       "      <td>13.000000</td>\n",
       "    </tr>\n",
       "    <tr>\n",
       "      <th>50%</th>\n",
       "      <td>18.000000</td>\n",
       "      <td>19.000000</td>\n",
       "      <td>17.000000</td>\n",
       "    </tr>\n",
       "    <tr>\n",
       "      <th>75%</th>\n",
       "      <td>24.000000</td>\n",
       "      <td>23.000000</td>\n",
       "      <td>25.000000</td>\n",
       "    </tr>\n",
       "    <tr>\n",
       "      <th>max</th>\n",
       "      <td>36.000000</td>\n",
       "      <td>38.000000</td>\n",
       "      <td>37.000000</td>\n",
       "    </tr>\n",
       "  </tbody>\n",
       "</table>\n",
       "</div>"
      ],
      "text/plain": [
       "            agua       suco       café\n",
       "count   5.000000   5.000000   5.000000\n",
       "mean   20.000000  21.000000  20.800000\n",
       "std    10.488088  10.559356  10.401923\n",
       "min    10.000000  11.000000  12.000000\n",
       "25%    12.000000  14.000000  13.000000\n",
       "50%    18.000000  19.000000  17.000000\n",
       "75%    24.000000  23.000000  25.000000\n",
       "max    36.000000  38.000000  37.000000"
      ]
     },
     "execution_count": 2,
     "metadata": {},
     "output_type": "execute_result"
    }
   ],
   "source": [
    "dados1.describe()"
   ]
  },
  {
   "cell_type": "code",
   "execution_count": 3,
   "metadata": {},
   "outputs": [
    {
     "data": {
      "text/html": [
       "<div>\n",
       "<style scoped>\n",
       "    .dataframe tbody tr th:only-of-type {\n",
       "        vertical-align: middle;\n",
       "    }\n",
       "\n",
       "    .dataframe tbody tr th {\n",
       "        vertical-align: top;\n",
       "    }\n",
       "\n",
       "    .dataframe thead th {\n",
       "        text-align: right;\n",
       "    }\n",
       "</style>\n",
       "<table border=\"1\" class=\"dataframe\">\n",
       "  <thead>\n",
       "    <tr style=\"text-align: right;\">\n",
       "      <th></th>\n",
       "      <th>agua</th>\n",
       "      <th>suco</th>\n",
       "      <th>café</th>\n",
       "    </tr>\n",
       "  </thead>\n",
       "  <tbody>\n",
       "    <tr>\n",
       "      <th>count</th>\n",
       "      <td>5.0</td>\n",
       "      <td>5.000000</td>\n",
       "      <td>5.000000</td>\n",
       "    </tr>\n",
       "    <tr>\n",
       "      <th>mean</th>\n",
       "      <td>30.0</td>\n",
       "      <td>18.600000</td>\n",
       "      <td>11.600000</td>\n",
       "    </tr>\n",
       "    <tr>\n",
       "      <th>std</th>\n",
       "      <td>1.0</td>\n",
       "      <td>1.140175</td>\n",
       "      <td>1.140175</td>\n",
       "    </tr>\n",
       "    <tr>\n",
       "      <th>min</th>\n",
       "      <td>29.0</td>\n",
       "      <td>17.000000</td>\n",
       "      <td>10.000000</td>\n",
       "    </tr>\n",
       "    <tr>\n",
       "      <th>25%</th>\n",
       "      <td>29.0</td>\n",
       "      <td>18.000000</td>\n",
       "      <td>11.000000</td>\n",
       "    </tr>\n",
       "    <tr>\n",
       "      <th>50%</th>\n",
       "      <td>30.0</td>\n",
       "      <td>19.000000</td>\n",
       "      <td>12.000000</td>\n",
       "    </tr>\n",
       "    <tr>\n",
       "      <th>75%</th>\n",
       "      <td>31.0</td>\n",
       "      <td>19.000000</td>\n",
       "      <td>12.000000</td>\n",
       "    </tr>\n",
       "    <tr>\n",
       "      <th>max</th>\n",
       "      <td>31.0</td>\n",
       "      <td>20.000000</td>\n",
       "      <td>13.000000</td>\n",
       "    </tr>\n",
       "  </tbody>\n",
       "</table>\n",
       "</div>"
      ],
      "text/plain": [
       "       agua       suco       café\n",
       "count   5.0   5.000000   5.000000\n",
       "mean   30.0  18.600000  11.600000\n",
       "std     1.0   1.140175   1.140175\n",
       "min    29.0  17.000000  10.000000\n",
       "25%    29.0  18.000000  11.000000\n",
       "50%    30.0  19.000000  12.000000\n",
       "75%    31.0  19.000000  12.000000\n",
       "max    31.0  20.000000  13.000000"
      ]
     },
     "execution_count": 3,
     "metadata": {},
     "output_type": "execute_result"
    }
   ],
   "source": [
    "dados2.describe()"
   ]
  },
  {
   "cell_type": "code",
   "execution_count": 4,
   "metadata": {
    "scrolled": true
   },
   "outputs": [
    {
     "data": {
      "text/html": [
       "<div>\n",
       "<style scoped>\n",
       "    .dataframe tbody tr th:only-of-type {\n",
       "        vertical-align: middle;\n",
       "    }\n",
       "\n",
       "    .dataframe tbody tr th {\n",
       "        vertical-align: top;\n",
       "    }\n",
       "\n",
       "    .dataframe thead th {\n",
       "        text-align: right;\n",
       "    }\n",
       "</style>\n",
       "<table border=\"1\" class=\"dataframe\">\n",
       "  <thead>\n",
       "    <tr style=\"text-align: right;\">\n",
       "      <th></th>\n",
       "      <th>agua</th>\n",
       "      <th>suco</th>\n",
       "      <th>café</th>\n",
       "    </tr>\n",
       "  </thead>\n",
       "  <tbody>\n",
       "    <tr>\n",
       "      <th>count</th>\n",
       "      <td>5.0</td>\n",
       "      <td>5.000000</td>\n",
       "      <td>5.00000</td>\n",
       "    </tr>\n",
       "    <tr>\n",
       "      <th>mean</th>\n",
       "      <td>30.0</td>\n",
       "      <td>28.600000</td>\n",
       "      <td>27.60000</td>\n",
       "    </tr>\n",
       "    <tr>\n",
       "      <th>std</th>\n",
       "      <td>1.0</td>\n",
       "      <td>1.140175</td>\n",
       "      <td>1.67332</td>\n",
       "    </tr>\n",
       "    <tr>\n",
       "      <th>min</th>\n",
       "      <td>29.0</td>\n",
       "      <td>27.000000</td>\n",
       "      <td>25.00000</td>\n",
       "    </tr>\n",
       "    <tr>\n",
       "      <th>25%</th>\n",
       "      <td>29.0</td>\n",
       "      <td>28.000000</td>\n",
       "      <td>27.00000</td>\n",
       "    </tr>\n",
       "    <tr>\n",
       "      <th>50%</th>\n",
       "      <td>30.0</td>\n",
       "      <td>29.000000</td>\n",
       "      <td>28.00000</td>\n",
       "    </tr>\n",
       "    <tr>\n",
       "      <th>75%</th>\n",
       "      <td>31.0</td>\n",
       "      <td>29.000000</td>\n",
       "      <td>29.00000</td>\n",
       "    </tr>\n",
       "    <tr>\n",
       "      <th>max</th>\n",
       "      <td>31.0</td>\n",
       "      <td>30.000000</td>\n",
       "      <td>29.00000</td>\n",
       "    </tr>\n",
       "  </tbody>\n",
       "</table>\n",
       "</div>"
      ],
      "text/plain": [
       "       agua       suco      café\n",
       "count   5.0   5.000000   5.00000\n",
       "mean   30.0  28.600000  27.60000\n",
       "std     1.0   1.140175   1.67332\n",
       "min    29.0  27.000000  25.00000\n",
       "25%    29.0  28.000000  27.00000\n",
       "50%    30.0  29.000000  28.00000\n",
       "75%    31.0  29.000000  29.00000\n",
       "max    31.0  30.000000  29.00000"
      ]
     },
     "execution_count": 4,
     "metadata": {},
     "output_type": "execute_result"
    }
   ],
   "source": [
    "dados3.describe()"
   ]
  },
  {
   "cell_type": "code",
   "execution_count": 5,
   "metadata": {},
   "outputs": [
    {
     "data": {
      "text/html": [
       "<div>\n",
       "<style scoped>\n",
       "    .dataframe tbody tr th:only-of-type {\n",
       "        vertical-align: middle;\n",
       "    }\n",
       "\n",
       "    .dataframe tbody tr th {\n",
       "        vertical-align: top;\n",
       "    }\n",
       "\n",
       "    .dataframe thead th {\n",
       "        text-align: right;\n",
       "    }\n",
       "</style>\n",
       "<table border=\"1\" class=\"dataframe\">\n",
       "  <thead>\n",
       "    <tr style=\"text-align: right;\">\n",
       "      <th></th>\n",
       "      <th>água</th>\n",
       "      <th>suco</th>\n",
       "      <th>café</th>\n",
       "    </tr>\n",
       "  </thead>\n",
       "  <tbody>\n",
       "    <tr>\n",
       "      <th>count</th>\n",
       "      <td>10.000000</td>\n",
       "      <td>10.000000</td>\n",
       "      <td>10.00000</td>\n",
       "    </tr>\n",
       "    <tr>\n",
       "      <th>mean</th>\n",
       "      <td>31.600000</td>\n",
       "      <td>29.300000</td>\n",
       "      <td>27.10000</td>\n",
       "    </tr>\n",
       "    <tr>\n",
       "      <th>std</th>\n",
       "      <td>1.505545</td>\n",
       "      <td>1.494434</td>\n",
       "      <td>1.66333</td>\n",
       "    </tr>\n",
       "    <tr>\n",
       "      <th>min</th>\n",
       "      <td>30.000000</td>\n",
       "      <td>27.000000</td>\n",
       "      <td>25.00000</td>\n",
       "    </tr>\n",
       "    <tr>\n",
       "      <th>25%</th>\n",
       "      <td>31.000000</td>\n",
       "      <td>28.250000</td>\n",
       "      <td>26.00000</td>\n",
       "    </tr>\n",
       "    <tr>\n",
       "      <th>50%</th>\n",
       "      <td>31.000000</td>\n",
       "      <td>29.000000</td>\n",
       "      <td>27.00000</td>\n",
       "    </tr>\n",
       "    <tr>\n",
       "      <th>75%</th>\n",
       "      <td>32.000000</td>\n",
       "      <td>30.000000</td>\n",
       "      <td>28.00000</td>\n",
       "    </tr>\n",
       "    <tr>\n",
       "      <th>max</th>\n",
       "      <td>35.000000</td>\n",
       "      <td>32.000000</td>\n",
       "      <td>30.00000</td>\n",
       "    </tr>\n",
       "  </tbody>\n",
       "</table>\n",
       "</div>"
      ],
      "text/plain": [
       "            água       suco      café\n",
       "count  10.000000  10.000000  10.00000\n",
       "mean   31.600000  29.300000  27.10000\n",
       "std     1.505545   1.494434   1.66333\n",
       "min    30.000000  27.000000  25.00000\n",
       "25%    31.000000  28.250000  26.00000\n",
       "50%    31.000000  29.000000  27.00000\n",
       "75%    32.000000  30.000000  28.00000\n",
       "max    35.000000  32.000000  30.00000"
      ]
     },
     "execution_count": 5,
     "metadata": {},
     "output_type": "execute_result"
    }
   ],
   "source": [
    "dados4.describe()"
   ]
  },
  {
   "cell_type": "code",
   "execution_count": 6,
   "metadata": {},
   "outputs": [
    {
     "name": "stdout",
     "output_type": "stream",
     "text": [
      "<class 'pandas.core.frame.DataFrame'>\n",
      "RangeIndex: 5 entries, 0 to 4\n",
      "Data columns (total 3 columns):\n",
      "agua    5 non-null int64\n",
      "suco    5 non-null int64\n",
      "café    5 non-null int64\n",
      "dtypes: int64(3)\n",
      "memory usage: 200.0 bytes\n"
     ]
    }
   ],
   "source": [
    "dados1.info()"
   ]
  },
  {
   "cell_type": "code",
   "execution_count": 7,
   "metadata": {},
   "outputs": [
    {
     "data": {
      "text/plain": [
       "(0.9252474904060364, 0.5643397569656372)"
      ]
     },
     "execution_count": 7,
     "metadata": {},
     "output_type": "execute_result"
    }
   ],
   "source": [
    "#teste de normalidade shapiro wilk\n",
    "\n",
    "#se o valor de p(segundo valor) > alfa(0,5), aceitamos h0 a amostra vem de uma distribuição normal\n",
    "\n",
    "import scipy.stats as stats\n",
    "\n",
    "stats.shapiro(dados1['agua'])"
   ]
  },
  {
   "cell_type": "code",
   "execution_count": 8,
   "metadata": {},
   "outputs": [
    {
     "data": {
      "text/plain": [
       "(0.907430112361908, 0.45230212807655334)"
      ]
     },
     "execution_count": 8,
     "metadata": {},
     "output_type": "execute_result"
    }
   ],
   "source": [
    "stats.shapiro(dados1['suco'])"
   ]
  },
  {
   "cell_type": "code",
   "execution_count": 9,
   "metadata": {},
   "outputs": [
    {
     "data": {
      "text/plain": [
       "(0.8796901702880859, 0.3079093098640442)"
      ]
     },
     "execution_count": 9,
     "metadata": {},
     "output_type": "execute_result"
    }
   ],
   "source": [
    "stats.shapiro(dados1['café'])"
   ]
  },
  {
   "cell_type": "code",
   "execution_count": 10,
   "metadata": {},
   "outputs": [
    {
     "data": {
      "text/plain": [
       "0.9252474904060364"
      ]
     },
     "execution_count": 10,
     "metadata": {},
     "output_type": "execute_result"
    }
   ],
   "source": [
    "#separando os objetos gerados\n",
    "valor , pvalue = stats.shapiro(dados1['agua'])\n",
    "\n",
    "valor"
   ]
  },
  {
   "cell_type": "code",
   "execution_count": 11,
   "metadata": {},
   "outputs": [
    {
     "data": {
      "text/plain": [
       "0.564"
      ]
     },
     "execution_count": 11,
     "metadata": {},
     "output_type": "execute_result"
    }
   ],
   "source": [
    "pvalue1 = round(pvalue,3)\n",
    "pvalue1"
   ]
  },
  {
   "cell_type": "code",
   "execution_count": 12,
   "metadata": {},
   "outputs": [
    {
     "data": {
      "text/plain": [
       "LeveneResult(statistic=0.003939592908732753, pvalue=0.9960694448246677)"
      ]
     },
     "execution_count": 12,
     "metadata": {},
     "output_type": "execute_result"
    }
   ],
   "source": [
    "#testar levene - testar se as variancias sao semelhantes\n",
    "# se o valor de p > alfa, aceitamos h0= as amostras tem variancia semelhantes\n",
    "\n",
    "levene = stats.levene(dados1['agua'],dados1['suco'],dados1['café'])\n",
    "\n",
    "levene"
   ]
  },
  {
   "cell_type": "code",
   "execution_count": 13,
   "metadata": {},
   "outputs": [],
   "source": [
    "import seaborn as sns\n",
    "import matplotlib.pyplot as plt\n",
    " \n",
    "sns.set(style=\"whitegrid\", color_codes=True)\n",
    " \n",
    "sns.boxplot(data=dados1);"
   ]
  },
  {
   "cell_type": "code",
   "execution_count": 14,
   "metadata": {},
   "outputs": [
    {
     "data": {
      "image/png": "[encoded data removed]",
      "text/plain": [
       "<Figure size 432x288 with 1 Axes>"
      ]
     },
     "metadata": {},
     "output_type": "display_data"
    }
   ],
   "source": [
    "sns.set(style=\"whitegrid\", color_codes=True)\n",
    " \n",
    "sns.boxplot(data=dados2);"
   ]
  },
  {
   "cell_type": "code",
   "execution_count": 15,
   "metadata": {},
   "outputs": [
    {
     "data": {
      "image/png": "[encoded data removed]",
      "text/plain": [
       "<Figure size 432x288 with 1 Axes>"
      ]
     },
     "metadata": {},
     "output_type": "display_data"
    }
   ],
   "source": [
    "sns.set(style=\"whitegrid\", color_codes=True)\n",
    " \n",
    "sns.boxplot(data=dados3);"
   ]
  },
  {
   "cell_type": "code",
   "execution_count": 16,
   "metadata": {},
   "outputs": [
    {
     "data": {
      "image/png": "[encoded data removed]",
      "text/plain": [
       "<Figure size 432x288 with 1 Axes>"
      ]
     },
     "metadata": {},
     "output_type": "display_data"
    }
   ],
   "source": [
    "sns.set(style=\"whitegrid\", color_codes=True)\n",
    " \n",
    "sns.boxplot(data=dados4);"
   ]
  },
  {
   "cell_type": "markdown",
   "metadata": {},
   "source": [
    "# Anova - one way"
   ]
  },
  {
   "cell_type": "code",
   "execution_count": 17,
   "metadata": {},
   "outputs": [
    {
     "data": {
      "text/plain": [
       "0.9873552754883261"
      ]
     },
     "execution_count": 17,
     "metadata": {},
     "output_type": "execute_result"
    }
   ],
   "source": [
    "from scipy import stats \n",
    "F,p=stats.f_oneway(dados1['agua'],dados1['suco'],dados1['café'])\n",
    "\n",
    "p"
   ]
  },
  {
   "cell_type": "code",
   "execution_count": 18,
   "metadata": {},
   "outputs": [
    {
     "name": "stdout",
     "output_type": "stream",
     "text": [
      "Não existe diferença entre os tratamentos\n"
     ]
    }
   ],
   "source": [
    "if p> 0.05:\n",
    "    print('Não existe diferença entre os tratamentos')\n",
    "else:\n",
    "    print('Existe Diferença nos tratamentos')"
   ]
  },
  {
   "cell_type": "code",
   "execution_count": 19,
   "metadata": {},
   "outputs": [
    {
     "name": "stdout",
     "output_type": "stream",
     "text": [
      "Existe Diferença nos tratamentos\n"
     ]
    }
   ],
   "source": [
    "F2,p2=stats.f_oneway(dados2['agua'],dados2['suco'],dados2['café'])\n",
    "\n",
    "if p2> 0.05:\n",
    "    print('Não existe diferença entre os tratamentos')\n",
    "else:\n",
    "    print('Existe Diferença nos tratamentos')\n"
   ]
  },
  {
   "cell_type": "code",
   "execution_count": 20,
   "metadata": {},
   "outputs": [
    {
     "name": "stdout",
     "output_type": "stream",
     "text": [
      "Existe Diferença nos tratamentos\n"
     ]
    }
   ],
   "source": [
    "F3,p3=stats.f_oneway(dados2['agua'],dados2['suco'],dados2['café'])\n",
    "\n",
    "if p3> 0.05:\n",
    "    print('Não existe diferença entre os tratamentos')\n",
    "else:\n",
    "    print('Existe Diferença nos tratamentos')"
   ]
  },
  {
   "cell_type": "code",
   "execution_count": 21,
   "metadata": {},
   "outputs": [
    {
     "name": "stdout",
     "output_type": "stream",
     "text": [
      "Existe Diferença nos tratamentos\n"
     ]
    }
   ],
   "source": [
    "F3,p3=stats.f_oneway(dados2['agua'],dados2['suco'],dados2['café'])\n",
    "\n",
    "if p3> 0.05:\n",
    "    print('Não existe diferença entre os tratamentos')\n",
    "else:\n",
    "    print('Existe Diferença nos tratamentos')"
   ]
  },
  {
   "cell_type": "code",
   "execution_count": 22,
   "metadata": {},
   "outputs": [
    {
     "name": "stdout",
     "output_type": "stream",
     "text": [
      "Existe Diferença nos tratamentos\n"
     ]
    }
   ],
   "source": [
    "F4,p4=stats.f_oneway(dados2['agua'],dados2['suco'],dados2['café'])\n",
    "\n",
    "if p4> 0.05:\n",
    "    print('Não existe diferença entre os tratamentos')\n",
    "else:\n",
    "    print('Existe Diferença nos tratamentos')"
   ]
  },
  {
   "cell_type": "markdown",
   "metadata": {},
   "source": [
    "# Mostrar quadro da anova"
   ]
  },
  {
   "cell_type": "code",
   "execution_count": 23,
   "metadata": {},
   "outputs": [
    {
     "data": {
      "text/html": [
       "<div>\n",
       "<style scoped>\n",
       "    .dataframe tbody tr th:only-of-type {\n",
       "        vertical-align: middle;\n",
       "    }\n",
       "\n",
       "    .dataframe tbody tr th {\n",
       "        vertical-align: top;\n",
       "    }\n",
       "\n",
       "    .dataframe thead th {\n",
       "        text-align: right;\n",
       "    }\n",
       "</style>\n",
       "<table border=\"1\" class=\"dataframe\">\n",
       "  <thead>\n",
       "    <tr style=\"text-align: right;\">\n",
       "      <th></th>\n",
       "      <th>0</th>\n",
       "      <th>1</th>\n",
       "      <th>2</th>\n",
       "      <th>3</th>\n",
       "      <th>4</th>\n",
       "      <th>5</th>\n",
       "      <th>6</th>\n",
       "      <th>7</th>\n",
       "      <th>8</th>\n",
       "      <th>9</th>\n",
       "      <th>10</th>\n",
       "      <th>11</th>\n",
       "      <th>12</th>\n",
       "      <th>13</th>\n",
       "      <th>14</th>\n",
       "    </tr>\n",
       "  </thead>\n",
       "  <tbody>\n",
       "    <tr>\n",
       "      <th>bebida</th>\n",
       "      <td>agua</td>\n",
       "      <td>agua</td>\n",
       "      <td>agua</td>\n",
       "      <td>agua</td>\n",
       "      <td>agua</td>\n",
       "      <td>suco</td>\n",
       "      <td>suco</td>\n",
       "      <td>suco</td>\n",
       "      <td>suco</td>\n",
       "      <td>suco</td>\n",
       "      <td>café</td>\n",
       "      <td>café</td>\n",
       "      <td>café</td>\n",
       "      <td>café</td>\n",
       "      <td>café</td>\n",
       "    </tr>\n",
       "    <tr>\n",
       "      <th>reação</th>\n",
       "      <td>29</td>\n",
       "      <td>30</td>\n",
       "      <td>31</td>\n",
       "      <td>31</td>\n",
       "      <td>29</td>\n",
       "      <td>28</td>\n",
       "      <td>29</td>\n",
       "      <td>27</td>\n",
       "      <td>30</td>\n",
       "      <td>29</td>\n",
       "      <td>25</td>\n",
       "      <td>28</td>\n",
       "      <td>29</td>\n",
       "      <td>27</td>\n",
       "      <td>29</td>\n",
       "    </tr>\n",
       "  </tbody>\n",
       "</table>\n",
       "</div>"
      ],
      "text/plain": [
       "          0     1     2     3     4     5     6     7     8     9     10  \\\n",
       "bebida  agua  agua  agua  agua  agua  suco  suco  suco  suco  suco  café   \n",
       "reação    29    30    31    31    29    28    29    27    30    29    25   \n",
       "\n",
       "          11    12    13    14  \n",
       "bebida  café  café  café  café  \n",
       "reação    28    29    27    29  "
      ]
     },
     "execution_count": 23,
     "metadata": {},
     "output_type": "execute_result"
    }
   ],
   "source": [
    "import statsmodels.api as sm\n",
    "\n",
    "from statsmodels.formula.api import ols\n",
    "\n",
    "dados5.T"
   ]
  },
  {
   "cell_type": "code",
   "execution_count": 24,
   "metadata": {},
   "outputs": [
    {
     "data": {
      "text/html": [
       "<div>\n",
       "<style scoped>\n",
       "    .dataframe tbody tr th:only-of-type {\n",
       "        vertical-align: middle;\n",
       "    }\n",
       "\n",
       "    .dataframe tbody tr th {\n",
       "        vertical-align: top;\n",
       "    }\n",
       "\n",
       "    .dataframe thead th {\n",
       "        text-align: right;\n",
       "    }\n",
       "</style>\n",
       "<table border=\"1\" class=\"dataframe\">\n",
       "  <thead>\n",
       "    <tr style=\"text-align: right;\">\n",
       "      <th></th>\n",
       "      <th>df</th>\n",
       "      <th>sum_sq</th>\n",
       "      <th>mean_sq</th>\n",
       "      <th>F</th>\n",
       "      <th>PR(&gt;F)</th>\n",
       "    </tr>\n",
       "  </thead>\n",
       "  <tbody>\n",
       "    <tr>\n",
       "      <th>bebida</th>\n",
       "      <td>2.0</td>\n",
       "      <td>14.533333</td>\n",
       "      <td>7.266667</td>\n",
       "      <td>4.27451</td>\n",
       "      <td>0.039659</td>\n",
       "    </tr>\n",
       "    <tr>\n",
       "      <th>Residual</th>\n",
       "      <td>12.0</td>\n",
       "      <td>20.400000</td>\n",
       "      <td>1.700000</td>\n",
       "      <td>NaN</td>\n",
       "      <td>NaN</td>\n",
       "    </tr>\n",
       "  </tbody>\n",
       "</table>\n",
       "</div>"
      ],
      "text/plain": [
       "            df     sum_sq   mean_sq        F    PR(>F)\n",
       "bebida     2.0  14.533333  7.266667  4.27451  0.039659\n",
       "Residual  12.0  20.400000  1.700000      NaN       NaN"
      ]
     },
     "execution_count": 24,
     "metadata": {},
     "output_type": "execute_result"
    }
   ],
   "source": [
    "modelo = ols('reação ~ bebida', data = dados5).fit()\n",
    "\n",
    "aov_table = sm.stats.anova_lm(modelo,typ=1)\n",
    "\n",
    "aov_table\n"
   ]
  },
  {
   "cell_type": "code",
   "execution_count": 25,
   "metadata": {},
   "outputs": [
    {
     "data": {
      "text/html": [
       "<table class=\"simpletable\">\n",
       "<caption>Multiple Comparison of Means - Tukey HSD, FWER=0.05</caption>\n",
       "<tr>\n",
       "  <th>group1</th> <th>group2</th> <th>meandiff</th>  <th>p-adj</th>  <th>lower</th>   <th>upper</th>  <th>reject</th>\n",
       "</tr>\n",
       "<tr>\n",
       "   <td>agua</td>   <td>café</td>    <td>-2.4</td>   <td>0.0324</td> <td>-4.5989</td> <td>-0.2011</td>  <td>True</td> \n",
       "</tr>\n",
       "<tr>\n",
       "   <td>agua</td>   <td>suco</td>    <td>-1.4</td>   <td>0.2457</td> <td>-3.5989</td> <td>0.7989</td>   <td>False</td>\n",
       "</tr>\n",
       "<tr>\n",
       "   <td>café</td>   <td>suco</td>     <td>1.0</td>   <td>0.4699</td> <td>-1.1989</td> <td>3.1989</td>   <td>False</td>\n",
       "</tr>\n",
       "</table>"
      ],
      "text/plain": [
       "<class 'statsmodels.iolib.table.SimpleTable'>"
      ]
     },
     "execution_count": 25,
     "metadata": {},
     "output_type": "execute_result"
    },
    {
     "data": {
      "image/png": "[encoded data removed]",
      "text/plain": [
       "<Figure size 720x432 with 1 Axes>"
      ]
     },
     "metadata": {},
     "output_type": "display_data"
    }
   ],
   "source": [
    "# Testes post hoc 'apos o fato'\n",
    "\n",
    "import statsmodels.stats.multicomp as multi\n",
    "from statsmodels.stats.multicomp import pairwise_tukeyhsd\n",
    "from statsmodels.stats.multicomp import MultiComparison\n",
    "\n",
    "comparacao = multi.MultiComparison(dados5['reação'],dados5['bebida'])\n",
    "\n",
    "resposta = comparacao.tukeyhsd(0.05)\n",
    "\n",
    "resposta.plot_simultaneous()\n",
    "\n",
    "plt.vlines(x=50,ymin=-0.5,ymax=4.5,color='r')\n",
    "\n",
    "resposta.summary()\n"
   ]
  },
  {
   "cell_type": "markdown",
   "metadata": {},
   "source": [
    "# Fatorial - 2 way anova"
   ]
  },
  {
   "cell_type": "code",
   "execution_count": 26,
   "metadata": {},
   "outputs": [
    {
     "data": {
      "text/html": [
       "<div>\n",
       "<style scoped>\n",
       "    .dataframe tbody tr th:only-of-type {\n",
       "        vertical-align: middle;\n",
       "    }\n",
       "\n",
       "    .dataframe tbody tr th {\n",
       "        vertical-align: top;\n",
       "    }\n",
       "\n",
       "    .dataframe thead th {\n",
       "        text-align: right;\n",
       "    }\n",
       "</style>\n",
       "<table border=\"1\" class=\"dataframe\">\n",
       "  <thead>\n",
       "    <tr style=\"text-align: right;\">\n",
       "      <th></th>\n",
       "      <th>sum_sq</th>\n",
       "      <th>df</th>\n",
       "      <th>F</th>\n",
       "      <th>PR(&gt;F)</th>\n",
       "    </tr>\n",
       "  </thead>\n",
       "  <tbody>\n",
       "    <tr>\n",
       "      <th>C(periodo)</th>\n",
       "      <td>4.559890</td>\n",
       "      <td>1.0</td>\n",
       "      <td>1.618098</td>\n",
       "      <td>0.215545</td>\n",
       "    </tr>\n",
       "    <tr>\n",
       "      <th>C(bebida)</th>\n",
       "      <td>91.877062</td>\n",
       "      <td>2.0</td>\n",
       "      <td>16.301499</td>\n",
       "      <td>0.000034</td>\n",
       "    </tr>\n",
       "    <tr>\n",
       "      <th>C(periodo):C(bebida)</th>\n",
       "      <td>3.822938</td>\n",
       "      <td>2.0</td>\n",
       "      <td>0.678294</td>\n",
       "      <td>0.516946</td>\n",
       "    </tr>\n",
       "    <tr>\n",
       "      <th>Residual</th>\n",
       "      <td>67.633333</td>\n",
       "      <td>24.0</td>\n",
       "      <td>NaN</td>\n",
       "      <td>NaN</td>\n",
       "    </tr>\n",
       "  </tbody>\n",
       "</table>\n",
       "</div>"
      ],
      "text/plain": [
       "                         sum_sq    df          F    PR(>F)\n",
       "C(periodo)             4.559890   1.0   1.618098  0.215545\n",
       "C(bebida)             91.877062   2.0  16.301499  0.000034\n",
       "C(periodo):C(bebida)   3.822938   2.0   0.678294  0.516946\n",
       "Residual              67.633333  24.0        NaN       NaN"
      ]
     },
     "execution_count": 26,
     "metadata": {},
     "output_type": "execute_result"
    }
   ],
   "source": [
    "equação ='reação ~ C(periodo)+C(bebida)+C(periodo):C(bebida)'\n",
    "\n",
    "# nesse modulo sem C = colunas , : para indicar interações\n",
    "\n",
    "modelo1 = ols(equação,dados6).fit()\n",
    "aov_table=sm.stats.anova_lm(modelo1,typ=2)\n",
    "\n",
    "aov_table\n"
   ]
  },
  {
   "cell_type": "markdown",
   "metadata": {},
   "source": [
    "# Tukey"
   ]
  },
  {
   "cell_type": "code",
   "execution_count": 27,
   "metadata": {
    "scrolled": true
   },
   "outputs": [
    {
     "data": {
      "text/html": [
       "<div>\n",
       "<style scoped>\n",
       "    .dataframe tbody tr th:only-of-type {\n",
       "        vertical-align: middle;\n",
       "    }\n",
       "\n",
       "    .dataframe tbody tr th {\n",
       "        vertical-align: top;\n",
       "    }\n",
       "\n",
       "    .dataframe thead th {\n",
       "        text-align: right;\n",
       "    }\n",
       "</style>\n",
       "<table border=\"1\" class=\"dataframe\">\n",
       "  <thead>\n",
       "    <tr style=\"text-align: right;\">\n",
       "      <th></th>\n",
       "      <th>periodo</th>\n",
       "      <th>bebida</th>\n",
       "      <th>reação</th>\n",
       "      <th>grupo</th>\n",
       "    </tr>\n",
       "  </thead>\n",
       "  <tbody>\n",
       "    <tr>\n",
       "      <th>0</th>\n",
       "      <td>dia</td>\n",
       "      <td>agua</td>\n",
       "      <td>30</td>\n",
       "      <td>dia-agua</td>\n",
       "    </tr>\n",
       "    <tr>\n",
       "      <th>1</th>\n",
       "      <td>dia</td>\n",
       "      <td>agua</td>\n",
       "      <td>31</td>\n",
       "      <td>dia-agua</td>\n",
       "    </tr>\n",
       "    <tr>\n",
       "      <th>2</th>\n",
       "      <td>dia</td>\n",
       "      <td>agua</td>\n",
       "      <td>31</td>\n",
       "      <td>dia-agua</td>\n",
       "    </tr>\n",
       "    <tr>\n",
       "      <th>3</th>\n",
       "      <td>dia</td>\n",
       "      <td>agua</td>\n",
       "      <td>32</td>\n",
       "      <td>dia-agua</td>\n",
       "    </tr>\n",
       "    <tr>\n",
       "      <th>4</th>\n",
       "      <td>dia</td>\n",
       "      <td>agua</td>\n",
       "      <td>32</td>\n",
       "      <td>dia-agua</td>\n",
       "    </tr>\n",
       "    <tr>\n",
       "      <th>5</th>\n",
       "      <td>noite</td>\n",
       "      <td>agua</td>\n",
       "      <td>31</td>\n",
       "      <td>noite-agua</td>\n",
       "    </tr>\n",
       "    <tr>\n",
       "      <th>6</th>\n",
       "      <td>noite</td>\n",
       "      <td>agua</td>\n",
       "      <td>31</td>\n",
       "      <td>noite-agua</td>\n",
       "    </tr>\n",
       "    <tr>\n",
       "      <th>7</th>\n",
       "      <td>noite</td>\n",
       "      <td>agua</td>\n",
       "      <td>33</td>\n",
       "      <td>noite-agua</td>\n",
       "    </tr>\n",
       "    <tr>\n",
       "      <th>8</th>\n",
       "      <td>noite</td>\n",
       "      <td>agua</td>\n",
       "      <td>35</td>\n",
       "      <td>noite-agua</td>\n",
       "    </tr>\n",
       "    <tr>\n",
       "      <th>9</th>\n",
       "      <td>noite</td>\n",
       "      <td>agua</td>\n",
       "      <td>30</td>\n",
       "      <td>noite-agua</td>\n",
       "    </tr>\n",
       "    <tr>\n",
       "      <th>10</th>\n",
       "      <td>dia</td>\n",
       "      <td>suco</td>\n",
       "      <td>28</td>\n",
       "      <td>dia-suco</td>\n",
       "    </tr>\n",
       "    <tr>\n",
       "      <th>11</th>\n",
       "      <td>dia</td>\n",
       "      <td>suco</td>\n",
       "      <td>30</td>\n",
       "      <td>dia-suco</td>\n",
       "    </tr>\n",
       "    <tr>\n",
       "      <th>12</th>\n",
       "      <td>dia</td>\n",
       "      <td>suco</td>\n",
       "      <td>27</td>\n",
       "      <td>dia-suco</td>\n",
       "    </tr>\n",
       "    <tr>\n",
       "      <th>13</th>\n",
       "      <td>dia</td>\n",
       "      <td>suco</td>\n",
       "      <td>29</td>\n",
       "      <td>dia-suco</td>\n",
       "    </tr>\n",
       "    <tr>\n",
       "      <th>14</th>\n",
       "      <td>dia</td>\n",
       "      <td>suco</td>\n",
       "      <td>32</td>\n",
       "      <td>dia-suco</td>\n",
       "    </tr>\n",
       "    <tr>\n",
       "      <th>15</th>\n",
       "      <td>noite</td>\n",
       "      <td>suco</td>\n",
       "      <td>29</td>\n",
       "      <td>noite-suco</td>\n",
       "    </tr>\n",
       "    <tr>\n",
       "      <th>16</th>\n",
       "      <td>noite</td>\n",
       "      <td>suco</td>\n",
       "      <td>30</td>\n",
       "      <td>noite-suco</td>\n",
       "    </tr>\n",
       "    <tr>\n",
       "      <th>17</th>\n",
       "      <td>noite</td>\n",
       "      <td>suco</td>\n",
       "      <td>28</td>\n",
       "      <td>noite-suco</td>\n",
       "    </tr>\n",
       "    <tr>\n",
       "      <th>18</th>\n",
       "      <td>noite</td>\n",
       "      <td>suco</td>\n",
       "      <td>29</td>\n",
       "      <td>noite-suco</td>\n",
       "    </tr>\n",
       "    <tr>\n",
       "      <th>19</th>\n",
       "      <td>noite</td>\n",
       "      <td>café</td>\n",
       "      <td>31</td>\n",
       "      <td>noite-café</td>\n",
       "    </tr>\n",
       "    <tr>\n",
       "      <th>20</th>\n",
       "      <td>dia</td>\n",
       "      <td>café</td>\n",
       "      <td>25</td>\n",
       "      <td>dia-café</td>\n",
       "    </tr>\n",
       "    <tr>\n",
       "      <th>21</th>\n",
       "      <td>dia</td>\n",
       "      <td>café</td>\n",
       "      <td>26</td>\n",
       "      <td>dia-café</td>\n",
       "    </tr>\n",
       "    <tr>\n",
       "      <th>22</th>\n",
       "      <td>dia</td>\n",
       "      <td>café</td>\n",
       "      <td>25</td>\n",
       "      <td>dia-café</td>\n",
       "    </tr>\n",
       "    <tr>\n",
       "      <th>23</th>\n",
       "      <td>dia</td>\n",
       "      <td>café</td>\n",
       "      <td>28</td>\n",
       "      <td>dia-café</td>\n",
       "    </tr>\n",
       "    <tr>\n",
       "      <th>24</th>\n",
       "      <td>dia</td>\n",
       "      <td>café</td>\n",
       "      <td>29</td>\n",
       "      <td>dia-café</td>\n",
       "    </tr>\n",
       "    <tr>\n",
       "      <th>25</th>\n",
       "      <td>noite</td>\n",
       "      <td>café</td>\n",
       "      <td>28</td>\n",
       "      <td>noite-café</td>\n",
       "    </tr>\n",
       "    <tr>\n",
       "      <th>26</th>\n",
       "      <td>noite</td>\n",
       "      <td>café</td>\n",
       "      <td>30</td>\n",
       "      <td>noite-café</td>\n",
       "    </tr>\n",
       "    <tr>\n",
       "      <th>27</th>\n",
       "      <td>noite</td>\n",
       "      <td>café</td>\n",
       "      <td>27</td>\n",
       "      <td>noite-café</td>\n",
       "    </tr>\n",
       "    <tr>\n",
       "      <th>28</th>\n",
       "      <td>noite</td>\n",
       "      <td>café</td>\n",
       "      <td>26</td>\n",
       "      <td>noite-café</td>\n",
       "    </tr>\n",
       "    <tr>\n",
       "      <th>29</th>\n",
       "      <td>noite</td>\n",
       "      <td>café</td>\n",
       "      <td>27</td>\n",
       "      <td>noite-café</td>\n",
       "    </tr>\n",
       "  </tbody>\n",
       "</table>\n",
       "</div>"
      ],
      "text/plain": [
       "   periodo bebida  reação       grupo\n",
       "0      dia   agua      30    dia-agua\n",
       "1      dia   agua      31    dia-agua\n",
       "2      dia   agua      31    dia-agua\n",
       "3      dia   agua      32    dia-agua\n",
       "4      dia   agua      32    dia-agua\n",
       "5    noite   agua      31  noite-agua\n",
       "6    noite   agua      31  noite-agua\n",
       "7    noite   agua      33  noite-agua\n",
       "8    noite   agua      35  noite-agua\n",
       "9    noite   agua      30  noite-agua\n",
       "10     dia   suco      28    dia-suco\n",
       "11     dia   suco      30    dia-suco\n",
       "12     dia   suco      27    dia-suco\n",
       "13     dia   suco      29    dia-suco\n",
       "14     dia   suco      32    dia-suco\n",
       "15   noite   suco      29  noite-suco\n",
       "16   noite   suco      30  noite-suco\n",
       "17   noite   suco      28  noite-suco\n",
       "18   noite   suco      29  noite-suco\n",
       "19   noite   café      31  noite-café\n",
       "20     dia   café      25    dia-café\n",
       "21     dia   café      26    dia-café\n",
       "22     dia   café      25    dia-café\n",
       "23     dia   café      28    dia-café\n",
       "24     dia   café      29    dia-café\n",
       "25   noite   café      28  noite-café\n",
       "26   noite   café      30  noite-café\n",
       "27   noite   café      27  noite-café\n",
       "28   noite   café      26  noite-café\n",
       "29   noite   café      27  noite-café"
      ]
     },
     "execution_count": 27,
     "metadata": {},
     "output_type": "execute_result"
    }
   ],
   "source": [
    "dados6['grupo'] = dados6['periodo']+'-'+dados6['bebida']\n",
    "\n",
    "dados6"
   ]
  },
  {
   "cell_type": "code",
   "execution_count": 28,
   "metadata": {
    "scrolled": true
   },
   "outputs": [
    {
     "data": {
      "text/html": [
       "<table class=\"simpletable\">\n",
       "<caption>Multiple Comparison of Means - Tukey HSD, FWER=0.05</caption>\n",
       "<tr>\n",
       "    <th>group1</th>     <th>group2</th>   <th>meandiff</th>  <th>p-adj</th>  <th>lower</th>   <th>upper</th>  <th>reject</th>\n",
       "</tr>\n",
       "<tr>\n",
       "   <td>dia-agua</td>   <td>dia-café</td>    <td>-4.6</td>   <td>0.0028</td> <td>-7.8829</td> <td>-1.3171</td>  <td>True</td> \n",
       "</tr>\n",
       "<tr>\n",
       "   <td>dia-agua</td>   <td>dia-suco</td>    <td>-2.0</td>   <td>0.4372</td> <td>-5.2829</td> <td>1.2829</td>   <td>False</td>\n",
       "</tr>\n",
       "<tr>\n",
       "   <td>dia-agua</td>  <td>noite-agua</td>    <td>0.8</td>     <td>0.9</td>  <td>-2.4829</td> <td>4.0829</td>   <td>False</td>\n",
       "</tr>\n",
       "<tr>\n",
       "   <td>dia-agua</td>  <td>noite-café</td>  <td>-3.0333</td>  <td>0.063</td> <td>-6.1764</td> <td>0.1098</td>   <td>False</td>\n",
       "</tr>\n",
       "<tr>\n",
       "   <td>dia-agua</td>  <td>noite-suco</td>   <td>-2.2</td>   <td>0.3978</td> <td>-5.682</td>   <td>1.282</td>   <td>False</td>\n",
       "</tr>\n",
       "<tr>\n",
       "   <td>dia-café</td>   <td>dia-suco</td>     <td>2.6</td>   <td>0.1795</td> <td>-0.6829</td> <td>5.8829</td>   <td>False</td>\n",
       "</tr>\n",
       "<tr>\n",
       "   <td>dia-café</td>  <td>noite-agua</td>    <td>5.4</td>    <td>0.001</td> <td>2.1171</td>  <td>8.6829</td>   <td>True</td> \n",
       "</tr>\n",
       "<tr>\n",
       "   <td>dia-café</td>  <td>noite-café</td>  <td>1.5667</td>  <td>0.6259</td> <td>-1.5764</td> <td>4.7098</td>   <td>False</td>\n",
       "</tr>\n",
       "<tr>\n",
       "   <td>dia-café</td>  <td>noite-suco</td>    <td>2.4</td>   <td>0.3056</td> <td>-1.082</td>   <td>5.882</td>   <td>False</td>\n",
       "</tr>\n",
       "<tr>\n",
       "   <td>dia-suco</td>  <td>noite-agua</td>    <td>2.8</td>   <td>0.1263</td> <td>-0.4829</td> <td>6.0829</td>   <td>False</td>\n",
       "</tr>\n",
       "<tr>\n",
       "   <td>dia-suco</td>  <td>noite-café</td>  <td>-1.0333</td>   <td>0.9</td>  <td>-4.1764</td> <td>2.1098</td>   <td>False</td>\n",
       "</tr>\n",
       "<tr>\n",
       "   <td>dia-suco</td>  <td>noite-suco</td>   <td>-0.2</td>     <td>0.9</td>  <td>-3.682</td>   <td>3.282</td>   <td>False</td>\n",
       "</tr>\n",
       "<tr>\n",
       "  <td>noite-agua</td> <td>noite-café</td>  <td>-3.8333</td> <td>0.0107</td> <td>-6.9764</td> <td>-0.6902</td>  <td>True</td> \n",
       "</tr>\n",
       "<tr>\n",
       "  <td>noite-agua</td> <td>noite-suco</td>   <td>-3.0</td>   <td>0.1204</td> <td>-6.482</td>   <td>0.482</td>   <td>False</td>\n",
       "</tr>\n",
       "<tr>\n",
       "  <td>noite-café</td> <td>noite-suco</td>  <td>0.8333</td>    <td>0.9</td>  <td>-2.5172</td> <td>4.1839</td>   <td>False</td>\n",
       "</tr>\n",
       "</table>"
      ],
      "text/plain": [
       "<class 'statsmodels.iolib.table.SimpleTable'>"
      ]
     },
     "execution_count": 28,
     "metadata": {},
     "output_type": "execute_result"
    },
    {
     "data": {
      "image/png": "[encoded data removed]",
      "text/plain": [
       "<Figure size 720x432 with 1 Axes>"
      ]
     },
     "metadata": {},
     "output_type": "display_data"
    }
   ],
   "source": [
    "comparacao = multi.MultiComparison(dados6['reação'],dados6['grupo'])\n",
    "\n",
    "resposta = comparacao.tukeyhsd(0.05)\n",
    "\n",
    "resposta.plot_simultaneous()\n",
    "\n",
    "plt.vlines(x=50,ymin=-0.5,ymax=4.5,color='r')\n",
    "\n",
    "resposta.summary()"
   ]
  }
 ],
 "metadata": {
  "kernelspec": {
   "display_name": "Python 3",
   "language": "python",
   "name": "python3"
  },
  "language_info": {
   "codemirror_mode": {
    "name": "ipython",
    "version": 3
   },
   "file_extension": ".py",
   "mimetype": "text/x-python",
   "name": "python",
   "nbconvert_exporter": "python",
   "pygments_lexer": "ipython3",
   "version": "3.7.3"
  }
 },
 "nbformat": 4,
 "nbformat_minor": 2
}
