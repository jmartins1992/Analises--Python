{
 "cells": [
  {
   "cell_type": "markdown",
   "metadata": {},
   "source": [
    "# Palhada"
   ]
  },
  {
   "cell_type": "code",
   "execution_count": 1,
   "metadata": {},
   "outputs": [
    {
     "data": {
      "text/html": [
       "<div>\n",
       "<style scoped>\n",
       "    .dataframe tbody tr th:only-of-type {\n",
       "        vertical-align: middle;\n",
       "    }\n",
       "\n",
       "    .dataframe tbody tr th {\n",
       "        vertical-align: top;\n",
       "    }\n",
       "\n",
       "    .dataframe thead th {\n",
       "        text-align: right;\n",
       "    }\n",
       "</style>\n",
       "<table border=\"1\" class=\"dataframe\">\n",
       "  <thead>\n",
       "    <tr style=\"text-align: right;\">\n",
       "      <th></th>\n",
       "      <th>Tmax</th>\n",
       "      <th>Tmed</th>\n",
       "      <th>Tmin</th>\n",
       "      <th>Chuva(mm)</th>\n",
       "      <th>Flir</th>\n",
       "      <th>x2</th>\n",
       "      <th>x5</th>\n",
       "      <th>x10</th>\n",
       "      <th>x20</th>\n",
       "      <th>x30</th>\n",
       "    </tr>\n",
       "  </thead>\n",
       "  <tbody>\n",
       "    <tr>\n",
       "      <th>count</th>\n",
       "      <td>302.000000</td>\n",
       "      <td>302.000000</td>\n",
       "      <td>302.000000</td>\n",
       "      <td>302.000000</td>\n",
       "      <td>302.000000</td>\n",
       "      <td>302.000000</td>\n",
       "      <td>302.000000</td>\n",
       "      <td>302.000000</td>\n",
       "      <td>302.000000</td>\n",
       "      <td>302.000000</td>\n",
       "    </tr>\n",
       "    <tr>\n",
       "      <th>mean</th>\n",
       "      <td>26.883113</td>\n",
       "      <td>14.183775</td>\n",
       "      <td>19.860596</td>\n",
       "      <td>1.534768</td>\n",
       "      <td>24.235174</td>\n",
       "      <td>20.065563</td>\n",
       "      <td>19.983444</td>\n",
       "      <td>19.989503</td>\n",
       "      <td>22.083113</td>\n",
       "      <td>21.813907</td>\n",
       "    </tr>\n",
       "    <tr>\n",
       "      <th>std</th>\n",
       "      <td>2.645729</td>\n",
       "      <td>2.620194</td>\n",
       "      <td>2.251069</td>\n",
       "      <td>6.829233</td>\n",
       "      <td>11.269655</td>\n",
       "      <td>3.193776</td>\n",
       "      <td>3.007983</td>\n",
       "      <td>2.338473</td>\n",
       "      <td>1.871667</td>\n",
       "      <td>1.809537</td>\n",
       "    </tr>\n",
       "    <tr>\n",
       "      <th>min</th>\n",
       "      <td>17.500000</td>\n",
       "      <td>7.200000</td>\n",
       "      <td>12.700000</td>\n",
       "      <td>0.000000</td>\n",
       "      <td>2.910000</td>\n",
       "      <td>12.200000</td>\n",
       "      <td>13.900000</td>\n",
       "      <td>15.200000</td>\n",
       "      <td>18.400000</td>\n",
       "      <td>18.500000</td>\n",
       "    </tr>\n",
       "    <tr>\n",
       "      <th>25%</th>\n",
       "      <td>25.700000</td>\n",
       "      <td>12.300000</td>\n",
       "      <td>18.700000</td>\n",
       "      <td>0.000000</td>\n",
       "      <td>14.551000</td>\n",
       "      <td>17.300000</td>\n",
       "      <td>17.400000</td>\n",
       "      <td>18.200000</td>\n",
       "      <td>20.400000</td>\n",
       "      <td>20.300000</td>\n",
       "    </tr>\n",
       "    <tr>\n",
       "      <th>50%</th>\n",
       "      <td>27.200000</td>\n",
       "      <td>14.600000</td>\n",
       "      <td>20.100000</td>\n",
       "      <td>0.000000</td>\n",
       "      <td>24.122000</td>\n",
       "      <td>20.400000</td>\n",
       "      <td>20.300000</td>\n",
       "      <td>20.200000</td>\n",
       "      <td>22.300000</td>\n",
       "      <td>21.900000</td>\n",
       "    </tr>\n",
       "    <tr>\n",
       "      <th>75%</th>\n",
       "      <td>28.600000</td>\n",
       "      <td>16.300000</td>\n",
       "      <td>21.500000</td>\n",
       "      <td>0.000000</td>\n",
       "      <td>33.663500</td>\n",
       "      <td>22.000000</td>\n",
       "      <td>21.675000</td>\n",
       "      <td>21.675000</td>\n",
       "      <td>23.600000</td>\n",
       "      <td>23.275000</td>\n",
       "    </tr>\n",
       "    <tr>\n",
       "      <th>max</th>\n",
       "      <td>33.800000</td>\n",
       "      <td>18.600000</td>\n",
       "      <td>24.000000</td>\n",
       "      <td>52.200000</td>\n",
       "      <td>48.566000</td>\n",
       "      <td>29.700000</td>\n",
       "      <td>28.400000</td>\n",
       "      <td>27.300000</td>\n",
       "      <td>26.400000</td>\n",
       "      <td>26.400000</td>\n",
       "    </tr>\n",
       "  </tbody>\n",
       "</table>\n",
       "</div>"
      ],
      "text/plain": [
       "             Tmax        Tmed        Tmin   Chuva(mm)        Flir          x2  \\\n",
       "count  302.000000  302.000000  302.000000  302.000000  302.000000  302.000000   \n",
       "mean    26.883113   14.183775   19.860596    1.534768   24.235174   20.065563   \n",
       "std      2.645729    2.620194    2.251069    6.829233   11.269655    3.193776   \n",
       "min     17.500000    7.200000   12.700000    0.000000    2.910000   12.200000   \n",
       "25%     25.700000   12.300000   18.700000    0.000000   14.551000   17.300000   \n",
       "50%     27.200000   14.600000   20.100000    0.000000   24.122000   20.400000   \n",
       "75%     28.600000   16.300000   21.500000    0.000000   33.663500   22.000000   \n",
       "max     33.800000   18.600000   24.000000   52.200000   48.566000   29.700000   \n",
       "\n",
       "               x5         x10         x20         x30  \n",
       "count  302.000000  302.000000  302.000000  302.000000  \n",
       "mean    19.983444   19.989503   22.083113   21.813907  \n",
       "std      3.007983    2.338473    1.871667    1.809537  \n",
       "min     13.900000   15.200000   18.400000   18.500000  \n",
       "25%     17.400000   18.200000   20.400000   20.300000  \n",
       "50%     20.300000   20.200000   22.300000   21.900000  \n",
       "75%     21.675000   21.675000   23.600000   23.275000  \n",
       "max     28.400000   27.300000   26.400000   26.400000  "
      ]
     },
     "execution_count": 1,
     "metadata": {},
     "output_type": "execute_result"
    }
   ],
   "source": [
    "import numpy as np\n",
    "import pandas as pd\n",
    "\n",
    "arquivo1 = pd.ExcelFile('resultados1.xlsx')\n",
    "dados1 = pd.read_excel(arquivo1,'MulchAtualizado')\n",
    "dados1.describe()"
   ]
  },
  {
   "cell_type": "code",
   "execution_count": 2,
   "metadata": {},
   "outputs": [],
   "source": [
    "x = np.array(dados1['Flir'])\n",
    "y1 = np.array(dados1['x2'])\n",
    "y2 = np.array(dados1['x5'])\n",
    "y3 = np.array(dados1['x10'])\n",
    "y4 = np.array(dados1['x20'])\n",
    "y5 = np.array(dados1['x30'])"
   ]
  },
  {
   "cell_type": "markdown",
   "metadata": {},
   "source": [
    "#   RMSE"
   ]
  },
  {
   "cell_type": "code",
   "execution_count": 3,
   "metadata": {},
   "outputs": [],
   "source": [
    "# calculando metricas de performace\n",
    "import math\n",
    "\n",
    "def rmses (o,e):\n",
    "    numerador = ((o-e)**2).mean()\n",
    "    numerador = numerador.sum()\n",
    "    rmses_Val = numerador/len(o)\n",
    "    rmses_Val1 = math.sqrt(rmses_Val)\n",
    "    \n",
    "    return rmses_Val1"
   ]
  },
  {
   "cell_type": "code",
   "execution_count": 4,
   "metadata": {},
   "outputs": [],
   "source": [
    "def rmse(o,e):\n",
    "    return math.sqrt(((e-o)**2).mean())"
   ]
  },
  {
   "cell_type": "code",
   "execution_count": 5,
   "metadata": {},
   "outputs": [],
   "source": [
    "rm1 = rmse(x,y1)\n",
    "rm2 = rmse(x,y2)\n",
    "rm3 = rmse(x,y3)\n",
    "rm4 = rmse(x,y4)\n",
    "rm5 = rmse(x,y5)"
   ]
  },
  {
   "cell_type": "code",
   "execution_count": 6,
   "metadata": {},
   "outputs": [
    {
     "data": {
      "text/plain": [
       "10.708798123596875"
      ]
     },
     "execution_count": 6,
     "metadata": {},
     "output_type": "execute_result"
    }
   ],
   "source": [
    "rmseMedio = (rm1+rm2+rm3+rm4+rm5)/5\n",
    "rmseMedio"
   ]
  },
  {
   "cell_type": "markdown",
   "metadata": {},
   "source": [
    "# MAPE"
   ]
  },
  {
   "cell_type": "code",
   "execution_count": 7,
   "metadata": {},
   "outputs": [],
   "source": [
    "def mape(o,e):\n",
    "    return(sum((e-o)/o)*100)/302"
   ]
  },
  {
   "cell_type": "code",
   "execution_count": 8,
   "metadata": {},
   "outputs": [],
   "source": [
    "mp1 = mape(x,y1)\n",
    "mp2 = mape(x,y2)\n",
    "mp3 = mape(x,y3)\n",
    "mp4 = mape(x,y4)\n",
    "mp5 = mape(x,y5)"
   ]
  },
  {
   "cell_type": "code",
   "execution_count": 9,
   "metadata": {},
   "outputs": [
    {
     "data": {
      "text/plain": [
       "17.590192348862093"
      ]
     },
     "execution_count": 9,
     "metadata": {},
     "output_type": "execute_result"
    }
   ],
   "source": [
    "mapeMedio = (mp1+mp2+mp3+mp4+mp5)/5\n",
    "mapeMedio"
   ]
  },
  {
   "cell_type": "code",
   "execution_count": 10,
   "metadata": {},
   "outputs": [],
   "source": [
    "xobs0 = dados1['Flir']\n",
    "yobs1 = dados1['x2']\n",
    "yobs2 = dados1['x5']\n",
    "yobs3 = dados1['x10']\n",
    "yobs4 = dados1['x20']\n",
    "yobs5 = dados1['x30']"
   ]
  },
  {
   "cell_type": "markdown",
   "metadata": {},
   "source": [
    "# Grama"
   ]
  },
  {
   "cell_type": "code",
   "execution_count": 11,
   "metadata": {},
   "outputs": [
    {
     "data": {
      "text/html": [
       "<div>\n",
       "<style scoped>\n",
       "    .dataframe tbody tr th:only-of-type {\n",
       "        vertical-align: middle;\n",
       "    }\n",
       "\n",
       "    .dataframe tbody tr th {\n",
       "        vertical-align: top;\n",
       "    }\n",
       "\n",
       "    .dataframe thead th {\n",
       "        text-align: right;\n",
       "    }\n",
       "</style>\n",
       "<table border=\"1\" class=\"dataframe\">\n",
       "  <thead>\n",
       "    <tr style=\"text-align: right;\">\n",
       "      <th></th>\n",
       "      <th>Tmax</th>\n",
       "      <th>Tmed</th>\n",
       "      <th>Tmin</th>\n",
       "      <th>Chuva(mm)</th>\n",
       "      <th>Flir</th>\n",
       "      <th>x2</th>\n",
       "      <th>x5</th>\n",
       "      <th>x10</th>\n",
       "      <th>x20</th>\n",
       "      <th>x30</th>\n",
       "    </tr>\n",
       "  </thead>\n",
       "  <tbody>\n",
       "    <tr>\n",
       "      <th>count</th>\n",
       "      <td>302.000000</td>\n",
       "      <td>302.000000</td>\n",
       "      <td>302.000000</td>\n",
       "      <td>302.000000</td>\n",
       "      <td>302.000000</td>\n",
       "      <td>302.000000</td>\n",
       "      <td>302.000000</td>\n",
       "      <td>302.000000</td>\n",
       "      <td>302.000000</td>\n",
       "      <td>302.000000</td>\n",
       "    </tr>\n",
       "    <tr>\n",
       "      <th>mean</th>\n",
       "      <td>26.883113</td>\n",
       "      <td>14.183775</td>\n",
       "      <td>19.860596</td>\n",
       "      <td>1.534768</td>\n",
       "      <td>21.389450</td>\n",
       "      <td>20.064570</td>\n",
       "      <td>19.930132</td>\n",
       "      <td>20.531921</td>\n",
       "      <td>21.105397</td>\n",
       "      <td>21.574172</td>\n",
       "    </tr>\n",
       "    <tr>\n",
       "      <th>std</th>\n",
       "      <td>2.645729</td>\n",
       "      <td>2.620194</td>\n",
       "      <td>2.251069</td>\n",
       "      <td>6.829233</td>\n",
       "      <td>8.875419</td>\n",
       "      <td>3.763124</td>\n",
       "      <td>3.457639</td>\n",
       "      <td>2.514261</td>\n",
       "      <td>1.929884</td>\n",
       "      <td>1.842970</td>\n",
       "    </tr>\n",
       "    <tr>\n",
       "      <th>min</th>\n",
       "      <td>17.500000</td>\n",
       "      <td>7.200000</td>\n",
       "      <td>12.700000</td>\n",
       "      <td>0.000000</td>\n",
       "      <td>2.536000</td>\n",
       "      <td>12.700000</td>\n",
       "      <td>13.300000</td>\n",
       "      <td>15.400000</td>\n",
       "      <td>17.200000</td>\n",
       "      <td>17.800000</td>\n",
       "    </tr>\n",
       "    <tr>\n",
       "      <th>25%</th>\n",
       "      <td>25.700000</td>\n",
       "      <td>12.300000</td>\n",
       "      <td>18.700000</td>\n",
       "      <td>0.000000</td>\n",
       "      <td>14.226000</td>\n",
       "      <td>16.900000</td>\n",
       "      <td>17.025000</td>\n",
       "      <td>18.500000</td>\n",
       "      <td>19.425000</td>\n",
       "      <td>19.800000</td>\n",
       "    </tr>\n",
       "    <tr>\n",
       "      <th>50%</th>\n",
       "      <td>27.200000</td>\n",
       "      <td>14.600000</td>\n",
       "      <td>20.100000</td>\n",
       "      <td>0.000000</td>\n",
       "      <td>22.397500</td>\n",
       "      <td>20.200000</td>\n",
       "      <td>20.200000</td>\n",
       "      <td>20.600000</td>\n",
       "      <td>21.400000</td>\n",
       "      <td>21.850000</td>\n",
       "    </tr>\n",
       "    <tr>\n",
       "      <th>75%</th>\n",
       "      <td>28.600000</td>\n",
       "      <td>16.300000</td>\n",
       "      <td>21.500000</td>\n",
       "      <td>0.000000</td>\n",
       "      <td>27.817250</td>\n",
       "      <td>22.200000</td>\n",
       "      <td>21.875000</td>\n",
       "      <td>22.200000</td>\n",
       "      <td>22.700000</td>\n",
       "      <td>23.100000</td>\n",
       "    </tr>\n",
       "    <tr>\n",
       "      <th>max</th>\n",
       "      <td>33.800000</td>\n",
       "      <td>18.600000</td>\n",
       "      <td>24.000000</td>\n",
       "      <td>52.200000</td>\n",
       "      <td>40.411000</td>\n",
       "      <td>34.600000</td>\n",
       "      <td>31.100000</td>\n",
       "      <td>28.600000</td>\n",
       "      <td>25.800000</td>\n",
       "      <td>27.600000</td>\n",
       "    </tr>\n",
       "  </tbody>\n",
       "</table>\n",
       "</div>"
      ],
      "text/plain": [
       "             Tmax        Tmed        Tmin   Chuva(mm)        Flir          x2  \\\n",
       "count  302.000000  302.000000  302.000000  302.000000  302.000000  302.000000   \n",
       "mean    26.883113   14.183775   19.860596    1.534768   21.389450   20.064570   \n",
       "std      2.645729    2.620194    2.251069    6.829233    8.875419    3.763124   \n",
       "min     17.500000    7.200000   12.700000    0.000000    2.536000   12.700000   \n",
       "25%     25.700000   12.300000   18.700000    0.000000   14.226000   16.900000   \n",
       "50%     27.200000   14.600000   20.100000    0.000000   22.397500   20.200000   \n",
       "75%     28.600000   16.300000   21.500000    0.000000   27.817250   22.200000   \n",
       "max     33.800000   18.600000   24.000000   52.200000   40.411000   34.600000   \n",
       "\n",
       "               x5         x10         x20         x30  \n",
       "count  302.000000  302.000000  302.000000  302.000000  \n",
       "mean    19.930132   20.531921   21.105397   21.574172  \n",
       "std      3.457639    2.514261    1.929884    1.842970  \n",
       "min     13.300000   15.400000   17.200000   17.800000  \n",
       "25%     17.025000   18.500000   19.425000   19.800000  \n",
       "50%     20.200000   20.600000   21.400000   21.850000  \n",
       "75%     21.875000   22.200000   22.700000   23.100000  \n",
       "max     31.100000   28.600000   25.800000   27.600000  "
      ]
     },
     "execution_count": 11,
     "metadata": {},
     "output_type": "execute_result"
    }
   ],
   "source": [
    "dados2 = pd.read_excel(arquivo1,'GrassAtualizado')\n",
    "dados2.describe()"
   ]
  },
  {
   "cell_type": "code",
   "execution_count": 12,
   "metadata": {},
   "outputs": [],
   "source": [
    "x0 = np.array(dados2['Flir'])\n",
    "y10 = np.array(dados2['x2'])\n",
    "y20 = np.array(dados2['x5'])\n",
    "y30 = np.array(dados2['x10'])\n",
    "y40 = np.array(dados2['x20'])\n",
    "y50 = np.array(dados2['x30'])"
   ]
  },
  {
   "cell_type": "markdown",
   "metadata": {},
   "source": [
    "# RMSE"
   ]
  },
  {
   "cell_type": "code",
   "execution_count": 13,
   "metadata": {},
   "outputs": [],
   "source": [
    "rm10 = rmse(x0,y10)\n",
    "rm20 = rmse(x0,y20)\n",
    "rm30 = rmse(x0,y30)\n",
    "rm40 = rmse(x0,y40)\n",
    "rm50 = rmse(x0,y50)"
   ]
  },
  {
   "cell_type": "code",
   "execution_count": 14,
   "metadata": {},
   "outputs": [
    {
     "data": {
      "text/plain": [
       "7.749752961606438"
      ]
     },
     "execution_count": 14,
     "metadata": {},
     "output_type": "execute_result"
    }
   ],
   "source": [
    "rmseMedio1 = (rm10+rm20+rm30+rm40+rm50)/5\n",
    "rmseMedio1"
   ]
  },
  {
   "cell_type": "markdown",
   "metadata": {},
   "source": [
    "# MAPE"
   ]
  },
  {
   "cell_type": "code",
   "execution_count": 15,
   "metadata": {},
   "outputs": [],
   "source": [
    "def mape2(o,e):\n",
    "    return(sum((e-o)/o)*100)/308"
   ]
  },
  {
   "cell_type": "code",
   "execution_count": 16,
   "metadata": {},
   "outputs": [],
   "source": [
    "mp10 = mape2(x0,y10)\n",
    "mp20 = mape2(x0,y20)\n",
    "mp30 = mape2(x0,y30)\n",
    "mp40 = mape2(x0,y40)\n",
    "mp50 = mape2(x0,y50)\n",
    "\n"
   ]
  },
  {
   "cell_type": "code",
   "execution_count": 17,
   "metadata": {},
   "outputs": [
    {
     "data": {
      "text/plain": [
       "24.569307429283224"
      ]
     },
     "execution_count": 17,
     "metadata": {},
     "output_type": "execute_result"
    }
   ],
   "source": [
    "mapeMedio2 = (mp10+mp20+mp30+mp40+mp50)/5\n",
    "mapeMedio2"
   ]
  },
  {
   "cell_type": "code",
   "execution_count": 18,
   "metadata": {},
   "outputs": [],
   "source": [
    "\n",
    "xobs00 = dados2['Flir']\n",
    "yobs10 = dados2['x2']\n",
    "yobs20 = dados2['x5']\n",
    "yobs30 = dados2['x10']\n",
    "yobs40 = dados2['x20']\n",
    "yobs50 = dados2['x30']"
   ]
  },
  {
   "cell_type": "markdown",
   "metadata": {},
   "source": [
    "# Solo Nu"
   ]
  },
  {
   "cell_type": "code",
   "execution_count": 19,
   "metadata": {},
   "outputs": [
    {
     "data": {
      "text/html": [
       "<div>\n",
       "<style scoped>\n",
       "    .dataframe tbody tr th:only-of-type {\n",
       "        vertical-align: middle;\n",
       "    }\n",
       "\n",
       "    .dataframe tbody tr th {\n",
       "        vertical-align: top;\n",
       "    }\n",
       "\n",
       "    .dataframe thead th {\n",
       "        text-align: right;\n",
       "    }\n",
       "</style>\n",
       "<table border=\"1\" class=\"dataframe\">\n",
       "  <thead>\n",
       "    <tr style=\"text-align: right;\">\n",
       "      <th></th>\n",
       "      <th>Tmax</th>\n",
       "      <th>Tmed</th>\n",
       "      <th>Tmin</th>\n",
       "      <th>Chuva</th>\n",
       "      <th>Flir</th>\n",
       "      <th>x2</th>\n",
       "      <th>x5</th>\n",
       "      <th>x10</th>\n",
       "      <th>x20</th>\n",
       "      <th>x30</th>\n",
       "    </tr>\n",
       "  </thead>\n",
       "  <tbody>\n",
       "    <tr>\n",
       "      <th>count</th>\n",
       "      <td>176.000000</td>\n",
       "      <td>176.000000</td>\n",
       "      <td>176.000000</td>\n",
       "      <td>176.000000</td>\n",
       "      <td>176.000000</td>\n",
       "      <td>176.000000</td>\n",
       "      <td>176.000000</td>\n",
       "      <td>176.000000</td>\n",
       "      <td>176.000000</td>\n",
       "      <td>176.000000</td>\n",
       "    </tr>\n",
       "    <tr>\n",
       "      <th>mean</th>\n",
       "      <td>27.089205</td>\n",
       "      <td>15.489773</td>\n",
       "      <td>20.567045</td>\n",
       "      <td>2.633523</td>\n",
       "      <td>22.219256</td>\n",
       "      <td>23.502670</td>\n",
       "      <td>23.083523</td>\n",
       "      <td>22.239773</td>\n",
       "      <td>22.958523</td>\n",
       "      <td>22.568750</td>\n",
       "    </tr>\n",
       "    <tr>\n",
       "      <th>std</th>\n",
       "      <td>2.484063</td>\n",
       "      <td>2.311489</td>\n",
       "      <td>1.914649</td>\n",
       "      <td>8.792494</td>\n",
       "      <td>10.368552</td>\n",
       "      <td>8.710183</td>\n",
       "      <td>7.434069</td>\n",
       "      <td>4.957189</td>\n",
       "      <td>2.333884</td>\n",
       "      <td>2.143319</td>\n",
       "    </tr>\n",
       "    <tr>\n",
       "      <th>min</th>\n",
       "      <td>19.100000</td>\n",
       "      <td>7.200000</td>\n",
       "      <td>13.600000</td>\n",
       "      <td>0.000000</td>\n",
       "      <td>2.250000</td>\n",
       "      <td>6.800000</td>\n",
       "      <td>10.400000</td>\n",
       "      <td>13.800000</td>\n",
       "      <td>18.300000</td>\n",
       "      <td>18.500000</td>\n",
       "    </tr>\n",
       "    <tr>\n",
       "      <th>25%</th>\n",
       "      <td>25.800000</td>\n",
       "      <td>14.575000</td>\n",
       "      <td>19.875000</td>\n",
       "      <td>0.000000</td>\n",
       "      <td>14.048750</td>\n",
       "      <td>17.275000</td>\n",
       "      <td>17.600000</td>\n",
       "      <td>18.300000</td>\n",
       "      <td>21.375000</td>\n",
       "      <td>20.775000</td>\n",
       "    </tr>\n",
       "    <tr>\n",
       "      <th>50%</th>\n",
       "      <td>27.600000</td>\n",
       "      <td>15.700000</td>\n",
       "      <td>20.700000</td>\n",
       "      <td>0.000000</td>\n",
       "      <td>22.010000</td>\n",
       "      <td>21.400000</td>\n",
       "      <td>21.050000</td>\n",
       "      <td>21.300000</td>\n",
       "      <td>23.000000</td>\n",
       "      <td>22.450000</td>\n",
       "    </tr>\n",
       "    <tr>\n",
       "      <th>75%</th>\n",
       "      <td>28.900000</td>\n",
       "      <td>17.100000</td>\n",
       "      <td>22.100000</td>\n",
       "      <td>0.000000</td>\n",
       "      <td>31.100500</td>\n",
       "      <td>31.475000</td>\n",
       "      <td>30.600000</td>\n",
       "      <td>26.525000</td>\n",
       "      <td>24.225000</td>\n",
       "      <td>24.000000</td>\n",
       "    </tr>\n",
       "    <tr>\n",
       "      <th>max</th>\n",
       "      <td>30.800000</td>\n",
       "      <td>18.600000</td>\n",
       "      <td>23.900000</td>\n",
       "      <td>52.200000</td>\n",
       "      <td>42.851000</td>\n",
       "      <td>45.300000</td>\n",
       "      <td>41.200000</td>\n",
       "      <td>34.400000</td>\n",
       "      <td>30.200000</td>\n",
       "      <td>29.000000</td>\n",
       "    </tr>\n",
       "  </tbody>\n",
       "</table>\n",
       "</div>"
      ],
      "text/plain": [
       "             Tmax        Tmed        Tmin       Chuva        Flir          x2  \\\n",
       "count  176.000000  176.000000  176.000000  176.000000  176.000000  176.000000   \n",
       "mean    27.089205   15.489773   20.567045    2.633523   22.219256   23.502670   \n",
       "std      2.484063    2.311489    1.914649    8.792494   10.368552    8.710183   \n",
       "min     19.100000    7.200000   13.600000    0.000000    2.250000    6.800000   \n",
       "25%     25.800000   14.575000   19.875000    0.000000   14.048750   17.275000   \n",
       "50%     27.600000   15.700000   20.700000    0.000000   22.010000   21.400000   \n",
       "75%     28.900000   17.100000   22.100000    0.000000   31.100500   31.475000   \n",
       "max     30.800000   18.600000   23.900000   52.200000   42.851000   45.300000   \n",
       "\n",
       "               x5         x10         x20         x30  \n",
       "count  176.000000  176.000000  176.000000  176.000000  \n",
       "mean    23.083523   22.239773   22.958523   22.568750  \n",
       "std      7.434069    4.957189    2.333884    2.143319  \n",
       "min     10.400000   13.800000   18.300000   18.500000  \n",
       "25%     17.600000   18.300000   21.375000   20.775000  \n",
       "50%     21.050000   21.300000   23.000000   22.450000  \n",
       "75%     30.600000   26.525000   24.225000   24.000000  \n",
       "max     41.200000   34.400000   30.200000   29.000000  "
      ]
     },
     "execution_count": 19,
     "metadata": {},
     "output_type": "execute_result"
    }
   ],
   "source": [
    "dados3 = pd.read_excel(arquivo1,'NuAtt')\n",
    "dados3.describe()"
   ]
  },
  {
   "cell_type": "code",
   "execution_count": 20,
   "metadata": {},
   "outputs": [],
   "source": [
    "x00  = np.array(dados3['Flir'])\n",
    "y100 = np.array(dados3['x2'])\n",
    "y200 = np.array(dados3['x5'])\n",
    "y300 = np.array(dados3['x10'])\n",
    "y400 = np.array(dados3['x20'])\n",
    "y500 = np.array(dados3['x30'])"
   ]
  },
  {
   "cell_type": "markdown",
   "metadata": {},
   "source": [
    "# RMSE"
   ]
  },
  {
   "cell_type": "code",
   "execution_count": 21,
   "metadata": {},
   "outputs": [],
   "source": [
    "rm100 = rmse(x00,y100)\n",
    "rm200 = rmse(x00,y200)\n",
    "rm300 = rmse(x00,y300)\n",
    "rm400 = rmse(x00,y400)\n",
    "rm500 = rmse(x00,y500)"
   ]
  },
  {
   "cell_type": "code",
   "execution_count": 22,
   "metadata": {},
   "outputs": [
    {
     "data": {
      "text/plain": [
       "6.562606506723485"
      ]
     },
     "execution_count": 22,
     "metadata": {},
     "output_type": "execute_result"
    }
   ],
   "source": [
    "rmseMedio2 = (rm100+rm200+rm300+rm400+rm500)/5\n",
    "rmseMedio2"
   ]
  },
  {
   "cell_type": "markdown",
   "metadata": {},
   "source": [
    "# MAPE"
   ]
  },
  {
   "cell_type": "code",
   "execution_count": 23,
   "metadata": {},
   "outputs": [],
   "source": [
    "def mape4(o,e):\n",
    "    return(sum((e-o)/o)*100)/175"
   ]
  },
  {
   "cell_type": "code",
   "execution_count": 24,
   "metadata": {},
   "outputs": [],
   "source": [
    "mp100 = mape4(x00,y100)\n",
    "mp200 = mape4(x00,y200)\n",
    "mp300 = mape4(x00,y300)\n",
    "mp400 = mape4(x00,y400)\n",
    "mp500 = mape4(x00,y500)"
   ]
  },
  {
   "cell_type": "code",
   "execution_count": 25,
   "metadata": {},
   "outputs": [
    {
     "data": {
      "text/plain": [
       "32.548035841113105"
      ]
     },
     "execution_count": 25,
     "metadata": {},
     "output_type": "execute_result"
    }
   ],
   "source": [
    "mapeMedio3 = (mp100+mp200+mp300+mp400+mp500)/5\n",
    "mapeMedio3"
   ]
  },
  {
   "cell_type": "markdown",
   "metadata": {},
   "source": [
    "## Gráfico precipitação"
   ]
  },
  {
   "cell_type": "code",
   "execution_count": 26,
   "metadata": {},
   "outputs": [
    {
     "data": {
      "text/plain": [
       "(0, 60)"
      ]
     },
     "execution_count": 26,
     "metadata": {},
     "output_type": "execute_result"
    },
    {
     "data": {
      "image/png": "[encoded data removed]",
      "text/plain": [
       "<Figure size 432x288 with 1 Axes>"
      ]
     },
     "metadata": {
      "needs_background": "light"
     },
     "output_type": "display_data"
    }
   ],
   "source": [
    "%matplotlib inline\n",
    "from matplotlib.pylab import rcParams\n",
    "import numpy as np\n",
    "import matplotlib as mpl\n",
    "import matplotlib.pylab as plt\n",
    "from sklearn.preprocessing import PolynomialFeatures\n",
    "import statsmodels.api as sm\n",
    "import statsmodels.formula.api as smf\n",
    "from patsy import dmatrix\n",
    "import matplotlib.pyplot as plt\n",
    "from numpy import *\n",
    "from scipy.interpolate import *\n",
    "import matplotlib.pyplot\n",
    "import pandas as pd\n",
    "import numpy as np\n",
    "\n",
    "arquivo1 = pd.ExcelFile('resultados1.xlsx')\n",
    "dados10 = pd.read_excel(arquivo1,'Planilha1')\n",
    "\n",
    "\n",
    "meses = np.array(dados10['meses'])\n",
    "valores1 = np.array(dados10['temp'])\n",
    "chuva = np.array(dados10['chuva'])\n",
    "\n",
    "\n",
    "import numpy as np\n",
    "import pandas as pd\n",
    "from statsmodels.tsa.stattools import adfuller\n",
    "\n",
    "pmedias = [22.95,21.1,19,18.4,20.8,24.4]\n",
    "pmin = [13.5,12.3,7.2,8.1,9.8,12.6]\n",
    "pmax =[33,29.7,30.3,28.8,34.8,34.9]\n",
    "\n",
    "plt.plot(meses,valores1,marker='o',color='white',linestyle='None',label='Temperatura do Ar')\n",
    "\n",
    "plt.plot(pmax,marker='^',color='black',linestyle='--',markersize=10,label='Temperatura do Ar Máxima')\n",
    "plt.plot(pmedias,marker='*',color='black',linestyle='--',markersize=10,label='Temperatura do Ar Média ')\n",
    "plt.plot(pmin,marker='v',color='black',linestyle='--',markersize=10,label='Temperatura do Ar Mínima')\n",
    "plt.xlabel('Meses')\n",
    "plt.ylabel('Temperatura do Ar(°c)')\n",
    "\n",
    "plt.legend(loc='upper left')\n",
    "plt.ylim(0,60)"
   ]
  },
  {
   "cell_type": "code",
   "execution_count": 27,
   "metadata": {},
   "outputs": [
    {
     "data": {
      "text/html": [
       "<div>\n",
       "<style scoped>\n",
       "    .dataframe tbody tr th:only-of-type {\n",
       "        vertical-align: middle;\n",
       "    }\n",
       "\n",
       "    .dataframe tbody tr th {\n",
       "        vertical-align: top;\n",
       "    }\n",
       "\n",
       "    .dataframe thead th {\n",
       "        text-align: right;\n",
       "    }\n",
       "</style>\n",
       "<table border=\"1\" class=\"dataframe\">\n",
       "  <thead>\n",
       "    <tr style=\"text-align: right;\">\n",
       "      <th></th>\n",
       "      <th>Tmed</th>\n",
       "      <th>Tmax</th>\n",
       "      <th>Tmin</th>\n",
       "      <th>chuva</th>\n",
       "      <th>Unnamed: 5</th>\n",
       "      <th>Unnamed: 6</th>\n",
       "    </tr>\n",
       "  </thead>\n",
       "  <tbody>\n",
       "    <tr>\n",
       "      <th>count</th>\n",
       "      <td>183.000000</td>\n",
       "      <td>183.000000</td>\n",
       "      <td>183.000000</td>\n",
       "      <td>183.000000</td>\n",
       "      <td>0.0</td>\n",
       "      <td>12.000000</td>\n",
       "    </tr>\n",
       "    <tr>\n",
       "      <th>mean</th>\n",
       "      <td>21.046448</td>\n",
       "      <td>28.421858</td>\n",
       "      <td>14.789071</td>\n",
       "      <td>1.628415</td>\n",
       "      <td>NaN</td>\n",
       "      <td>2.637742</td>\n",
       "    </tr>\n",
       "    <tr>\n",
       "      <th>std</th>\n",
       "      <td>2.858701</td>\n",
       "      <td>3.564471</td>\n",
       "      <td>2.777320</td>\n",
       "      <td>7.881698</td>\n",
       "      <td>NaN</td>\n",
       "      <td>4.948609</td>\n",
       "    </tr>\n",
       "    <tr>\n",
       "      <th>min</th>\n",
       "      <td>12.700000</td>\n",
       "      <td>17.500000</td>\n",
       "      <td>7.200000</td>\n",
       "      <td>0.000000</td>\n",
       "      <td>NaN</td>\n",
       "      <td>0.000000</td>\n",
       "    </tr>\n",
       "    <tr>\n",
       "      <th>25%</th>\n",
       "      <td>19.000000</td>\n",
       "      <td>26.050000</td>\n",
       "      <td>12.500000</td>\n",
       "      <td>0.000000</td>\n",
       "      <td>NaN</td>\n",
       "      <td>0.000000</td>\n",
       "    </tr>\n",
       "    <tr>\n",
       "      <th>50%</th>\n",
       "      <td>20.900000</td>\n",
       "      <td>28.100000</td>\n",
       "      <td>14.900000</td>\n",
       "      <td>0.000000</td>\n",
       "      <td>NaN</td>\n",
       "      <td>0.000000</td>\n",
       "    </tr>\n",
       "    <tr>\n",
       "      <th>75%</th>\n",
       "      <td>23.150000</td>\n",
       "      <td>31.150000</td>\n",
       "      <td>17.000000</td>\n",
       "      <td>0.000000</td>\n",
       "      <td>NaN</td>\n",
       "      <td>2.110006</td>\n",
       "    </tr>\n",
       "    <tr>\n",
       "      <th>max</th>\n",
       "      <td>29.500000</td>\n",
       "      <td>34.900000</td>\n",
       "      <td>20.600000</td>\n",
       "      <td>79.000000</td>\n",
       "      <td>NaN</td>\n",
       "      <td>14.367962</td>\n",
       "    </tr>\n",
       "  </tbody>\n",
       "</table>\n",
       "</div>"
      ],
      "text/plain": [
       "             Tmed        Tmax        Tmin       chuva  Unnamed: 5  Unnamed: 6\n",
       "count  183.000000  183.000000  183.000000  183.000000         0.0   12.000000\n",
       "mean    21.046448   28.421858   14.789071    1.628415         NaN    2.637742\n",
       "std      2.858701    3.564471    2.777320    7.881698         NaN    4.948609\n",
       "min     12.700000   17.500000    7.200000    0.000000         NaN    0.000000\n",
       "25%     19.000000   26.050000   12.500000    0.000000         NaN    0.000000\n",
       "50%     20.900000   28.100000   14.900000    0.000000         NaN    0.000000\n",
       "75%     23.150000   31.150000   17.000000    0.000000         NaN    2.110006\n",
       "max     29.500000   34.900000   20.600000   79.000000         NaN   14.367962"
      ]
     },
     "execution_count": 27,
     "metadata": {},
     "output_type": "execute_result"
    }
   ],
   "source": [
    "import numpy as np\n",
    "import pandas as pd\n",
    "\n",
    "arquivo1 = pd.ExcelFile('resultados1.xlsx')\n",
    "dados1 = pd.read_excel(arquivo1,'Planilha2')\n",
    "dados1.describe()"
   ]
  },
  {
   "cell_type": "code",
   "execution_count": 28,
   "metadata": {},
   "outputs": [
    {
     "name": "stdout",
     "output_type": "stream",
     "text": [
      "           TmaxJ      TminJ      TmedJ     ChuvaJ    TmaxFev    TminFev  \\\n",
      "count  32.000000  32.000000  32.000000  32.000000  29.000000  29.000000   \n",
      "mean   29.753125  19.931250  23.759375   7.215625  31.582759  19.637931   \n",
      "std     2.258887   0.757942   1.631516  13.487799   1.708188   0.618416   \n",
      "min    25.700000  17.900000  21.100000   0.000000  26.000000  18.500000   \n",
      "25%    28.175000  19.475000  22.475000   0.000000  31.200000  19.200000   \n",
      "50%    29.000000  20.000000  23.400000   0.800000  31.700000  19.600000   \n",
      "75%    31.250000  20.500000  25.225000   8.800000  32.500000  20.000000   \n",
      "max    34.100000  21.100000  26.500000  66.400000  34.400000  21.000000   \n",
      "\n",
      "         TmedFev   ChuvaFev  TmaxMarco  TminMarco  ...    TmedOut   ChuvaOut  \\\n",
      "count  29.000000  29.000000  32.000000  32.000000  ...  32.000000  32.000000   \n",
      "mean   24.836207   3.668966  31.431250  19.056250  ...  24.996875   2.462500   \n",
      "std     1.326576  10.860318   1.735667   1.714819  ...   2.844744   5.482627   \n",
      "min    21.300000   0.000000  27.200000  15.000000  ...  19.200000   0.000000   \n",
      "25%    24.600000   0.000000  30.100000  18.300000  ...  22.875000   0.000000   \n",
      "50%    24.950000   0.000000  31.500000  19.700000  ...  25.500000   0.000000   \n",
      "75%    25.600000   0.600000  33.025000  20.225000  ...  27.125000   0.550000   \n",
      "max    27.200000  42.600000  34.300000  21.200000  ...  29.700000  18.500000   \n",
      "\n",
      "         TmaxNov    TminNov    TmedNov   ChuvaNov    TmaxDez    TminDez  \\\n",
      "count  31.000000  31.000000  31.000000  31.000000  32.000000  32.000000   \n",
      "mean   30.258065  18.324194  23.654839   7.850000  30.503125  19.940625   \n",
      "std     2.455439   1.325951   1.154076  12.274479   2.911987   0.851132   \n",
      "min    24.000000  15.200000  21.100000   0.000000  22.700000  17.800000   \n",
      "25%    29.400000  17.400000  23.000000   0.000000  30.325000  19.400000   \n",
      "50%    30.500000  18.450000  23.600000   0.350000  31.600000  19.900000   \n",
      "75%    31.600000  19.400000  24.450000  12.500000  32.225000  20.525000   \n",
      "max    33.800000  20.700000  26.000000  46.600000  33.700000  21.700000   \n",
      "\n",
      "         TmedDez   ChuvaDez  \n",
      "count  32.000000  32.000000  \n",
      "mean   24.362500   3.878125  \n",
      "std     1.710829   9.541716  \n",
      "min    19.500000   0.000000  \n",
      "25%    24.025000   0.000000  \n",
      "50%    24.700000   0.400000  \n",
      "75%    25.350000   2.550000  \n",
      "max    26.700000  49.700000  \n",
      "\n",
      "[8 rows x 48 columns]\n"
     ]
    }
   ],
   "source": [
    "import numpy as np\n",
    "import pandas as pd\n",
    "\n",
    "arquivo1 = pd.ExcelFile('resultados1.xlsx')\n",
    "dados1 = pd.read_excel(arquivo1,'TempChuva')\n",
    "print(dados1.describe())"
   ]
  },
  {
   "cell_type": "code",
   "execution_count": 30,
   "metadata": {},
   "outputs": [
    {
     "data": {
      "text/plain": [
       "(0, 100)"
      ]
     },
     "execution_count": 30,
     "metadata": {},
     "output_type": "execute_result"
    },
    {
     "data": {
      "image/png": "[encoded data removed]",
      "text/plain": [
       "<Figure size 432x288 with 1 Axes>"
      ]
     },
     "metadata": {
      "needs_background": "light"
     },
     "output_type": "display_data"
    }
   ],
   "source": [
    "meses = np.array(dados10['meses'])\n",
    "valores1 = np.array(dados10['temp'])\n",
    "chuva = np.array(dados10['chuva'])\n",
    "\n",
    "desvio = [14.3,11.4,0.66,0,1.6,3.5]\n",
    "\n",
    "plt.plot(meses,chuva,marker='o',color='black',linestyle='None',label='Precipitação')\n",
    "\n",
    "plt.plot(desvio,marker='^',color='r',linestyle='--',markersize=10,label='Desvio Padrão')\n",
    "plt.xlabel('Meses')\n",
    "plt.ylabel('Precipitação (MM)')\n",
    "\n",
    "plt.legend(loc='upper right')\n",
    "plt.ylim(0,100)"
   ]
  },
  {
   "cell_type": "code",
   "execution_count": null,
   "metadata": {},
   "outputs": [],
   "source": []
  }
 ],
 "metadata": {
  "kernelspec": {
   "display_name": "Python 3",
   "language": "python",
   "name": "python3"
  },
  "language_info": {
   "codemirror_mode": {
    "name": "ipython",
    "version": 3
   },
   "file_extension": ".py",
   "mimetype": "text/x-python",
   "name": "python",
   "nbconvert_exporter": "python",
   "pygments_lexer": "ipython3",
   "version": "3.7.3"
  }
 },
 "nbformat": 4,
 "nbformat_minor": 2
}
