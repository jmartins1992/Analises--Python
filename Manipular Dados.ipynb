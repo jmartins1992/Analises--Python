{
 "cells": [
  {
   "cell_type": "code",
   "execution_count": 6,
   "metadata": {},
   "outputs": [],
   "source": [
    "'''\n",
    "uma lista tambem pode ser uma matriz\n",
    "\n",
    "bd = aluno(0,0) nota 1 (0,1) nota 2 (0,2)\n",
    "     jose (1,0) 5.0    (1,1) 5.5    (1,2)\n",
    "     arthu(2,0) 6.5    (2,1) 3.3    (2,2)\n",
    "     morga(3,0) 7.3    (3,1) 8.1    (3,2)\n",
    "\n",
    "'''\n",
    "\n",
    "bd=['Aluno','Nota 1','Nota 2','Jose',5,5.5]\n",
    "bd[0]\n",
    "\n",
    "# 2 forma mais basica \n",
    "\n",
    "bdmatrix=[['Aluno','Nota 1','Nota 2'],\n",
    "         ['Jose', 5,5.5],\n",
    "         ['arthur',6.5,3.3],\n",
    "         ['morgana',7.3,8.1]]\n",
    "\n"
   ]
  },
  {
   "cell_type": "code",
   "execution_count": 14,
   "metadata": {
    "scrolled": true
   },
   "outputs": [
    {
     "data": {
      "text/plain": [
       "[['Aluno', 'Nota 1', 'Nota 2'],\n",
       " ['Jose', 5, 5.5],\n",
       " ['arthur', 6.5, 3.3],\n",
       " ['morgana', 7.3, 8.1]]"
      ]
     },
     "execution_count": 14,
     "metadata": {},
     "output_type": "execute_result"
    }
   ],
   "source": [
    "bdmatrix"
   ]
  },
  {
   "cell_type": "code",
   "execution_count": 23,
   "metadata": {},
   "outputs": [
    {
     "data": {
      "text/plain": [
       "5.25"
      ]
     },
     "execution_count": 23,
     "metadata": {},
     "output_type": "execute_result"
    }
   ],
   "source": [
    "media=round((bd[4]+bd[5])/2,2)\n",
    "\n",
    "media"
   ]
  },
  {
   "cell_type": "code",
   "execution_count": 15,
   "metadata": {},
   "outputs": [
    {
     "data": {
      "text/plain": [
       "'morgana'"
      ]
     },
     "execution_count": 15,
     "metadata": {},
     "output_type": "execute_result"
    }
   ],
   "source": [
    "bdmatrix[3][0]"
   ]
  },
  {
   "cell_type": "code",
   "execution_count": 16,
   "metadata": {},
   "outputs": [
    {
     "data": {
      "text/plain": [
       "('Media de morgana', 11.35)"
      ]
     },
     "execution_count": 16,
     "metadata": {},
     "output_type": "execute_result"
    }
   ],
   "source": [
    "media2=(bdmatrix[3][1]+bdmatrix[3][2]/2)\n",
    "\n",
    "'Media de morgana',media2"
   ]
  },
  {
   "cell_type": "code",
   "execution_count": 17,
   "metadata": {},
   "outputs": [
    {
     "data": {
      "text/plain": [
       "[5, 5.5]"
      ]
     },
     "execution_count": 17,
     "metadata": {},
     "output_type": "execute_result"
    }
   ],
   "source": [
    "bdmatrix[1][1:]\n",
    "#uso do coringa : -> tras todos os indices apos a posição"
   ]
  },
  {
   "cell_type": "markdown",
   "metadata": {},
   "source": [
    "Bibliote numpy"
   ]
  },
  {
   "cell_type": "code",
   "execution_count": 22,
   "metadata": {},
   "outputs": [
    {
     "data": {
      "text/plain": [
       "array([ 2,  4,  6,  7,  8,  9, 10])"
      ]
     },
     "execution_count": 22,
     "metadata": {},
     "output_type": "execute_result"
    }
   ],
   "source": [
    "import numpy as np \n",
    "\n",
    "dados = np.array([2,4,6,7,8,9,10])\n",
    "\n",
    "\n",
    "dados"
   ]
  },
  {
   "cell_type": "code",
   "execution_count": 28,
   "metadata": {},
   "outputs": [
    {
     "data": {
      "text/plain": [
       "('A média da morgana :', 7.7)"
      ]
     },
     "execution_count": 28,
     "metadata": {},
     "output_type": "execute_result"
    }
   ],
   "source": [
    "dados2 = np.array(bdmatrix)\n",
    "\n",
    "morgana = dados2[3,1:]\n",
    "\n",
    "morgana = morgana.astype(np.float)\n",
    "media =np.average(morgana)\n",
    "'A média da morgana :',round(media,2)"
   ]
  },
  {
   "cell_type": "code",
   "execution_count": null,
   "metadata": {},
   "outputs": [],
   "source": []
  }
 ],
 "metadata": {
  "kernelspec": {
   "display_name": "Python 3",
   "language": "python",
   "name": "python3"
  },
  "language_info": {
   "codemirror_mode": {
    "name": "ipython",
    "version": 3
   },
   "file_extension": ".py",
   "mimetype": "text/x-python",
   "name": "python",
   "nbconvert_exporter": "python",
   "pygments_lexer": "ipython3",
   "version": "3.6.5"
  }
 },
 "nbformat": 4,
 "nbformat_minor": 2
}
