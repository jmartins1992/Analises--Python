{
 "cells": [
  {
   "cell_type": "code",
   "execution_count": 1,
   "metadata": {},
   "outputs": [],
   "source": [
    "import pandas as pd\n",
    "arquivo=pd.ExcelFile('dados-regressao.xlsx')\n",
    "dados = pd.read_excel(arquivo,'RNLS-6')\n",
    "xobs = dados['Xobs']\n",
    "yobs = dados['Yobs']\n"
   ]
  },
  {
   "cell_type": "code",
   "execution_count": 2,
   "metadata": {},
   "outputs": [
    {
     "data": {
      "text/plain": [
       "<matplotlib.collections.PathCollection at 0x1b7c5fd7f60>"
      ]
     },
     "execution_count": 2,
     "metadata": {},
     "output_type": "execute_result"
    }
   ],
   "source": [
    "import matplotlib.pyplot as plt\n",
    "plt.scatter(xobs,yobs)"
   ]
  },
  {
   "cell_type": "code",
   "execution_count": 3,
   "metadata": {},
   "outputs": [],
   "source": [
    "#montando o modelo\n",
    "def exponencial(x,a,b):\n",
    "    return a+b**x"
   ]
  },
  {
   "cell_type": "code",
   "execution_count": 4,
   "metadata": {},
   "outputs": [
    {
     "data": {
      "text/plain": [
       "[<matplotlib.lines.Line2D at 0x1b7c615d5f8>]"
      ]
     },
     "execution_count": 4,
     "metadata": {},
     "output_type": "execute_result"
    },
    {
     "data": {
      "image/png": "[encoded data removed]",
      "text/plain": [
       "<Figure size 432x288 with 1 Axes>"
      ]
     },
     "metadata": {
      "needs_background": "light"
     },
     "output_type": "display_data"
    }
   ],
   "source": [
    "import numpy as np\n",
    "#grafico previo\n",
    "a=0\n",
    "b=0.5\n",
    "#gerando 100 numeros de 0 a 15\n",
    "xgraf = np.linspace(0,15,100)\n",
    "\n",
    "plt.scatter(xobs,yobs)\n",
    "\n",
    "yest = exponencial(xgraf,a,b)\n",
    "\n",
    "plt.plot(xgraf,yest,'r-')"
   ]
  },
  {
   "cell_type": "code",
   "execution_count": 5,
   "metadata": {},
   "outputs": [],
   "source": [
    "def box(x,a,b):\n",
    "    return a*(1-np.exp(-b*x))"
   ]
  },
  {
   "cell_type": "code",
   "execution_count": 6,
   "metadata": {},
   "outputs": [
    {
     "data": {
      "text/plain": [
       "[<matplotlib.lines.Line2D at 0x1b7c61faf98>]"
      ]
     },
     "execution_count": 6,
     "metadata": {},
     "output_type": "execute_result"
    },
    {
     "data": {
      "image/png": "[encoded data removed]",
      "text/plain": [
       "<Figure size 432x288 with 1 Axes>"
      ]
     },
     "metadata": {
      "needs_background": "light"
     },
     "output_type": "display_data"
    }
   ],
   "source": [
    "import numpy as np\n",
    "#grafico previo\n",
    "a=60\n",
    "b=0.2\n",
    "#gerando 100 numeros de 0 a 15\n",
    "xgraf = np.linspace(0,15,100)\n",
    "\n",
    "plt.scatter(xobs,yobs)\n",
    "\n",
    "yest = box(xgraf,a,b)\n",
    "\n",
    "plt.plot(xgraf,yest,'r-')"
   ]
  },
  {
   "cell_type": "code",
   "execution_count": 7,
   "metadata": {},
   "outputs": [
    {
     "data": {
      "text/plain": [
       "array([61.6494267 ,  0.17843031])"
      ]
     },
     "execution_count": 7,
     "metadata": {},
     "output_type": "execute_result"
    }
   ],
   "source": [
    "from scipy.optimize import curve_fit\n",
    "\n",
    "valoresiniciais=[60,.2]\n",
    "\n",
    "parametrosajustados, covar=curve_fit(box,xobs,yobs,p0=valoresiniciais)\n",
    "parametrosajustados"
   ]
  },
  {
   "cell_type": "code",
   "execution_count": 8,
   "metadata": {},
   "outputs": [
    {
     "data": {
      "text/plain": [
       "[<matplotlib.lines.Line2D at 0x1b7c68c89e8>]"
      ]
     },
     "execution_count": 8,
     "metadata": {},
     "output_type": "execute_result"
    },
    {
     "data": {
      "image/png": "[encoded data removed]",
      "text/plain": [
       "<Figure size 432x288 with 1 Axes>"
      ]
     },
     "metadata": {
      "needs_background": "light"
     },
     "output_type": "display_data"
    }
   ],
   "source": [
    "#grafico do modelo ajustado\n",
    "\n",
    "plt.scatter(xobs,yobs)\n",
    "\n",
    "a_ajustado=parametrosajustados[0]\n",
    "b_ajustado=parametrosajustados[1]\n",
    "\n",
    "yest = box(xgraf,a_ajustado,b_ajustado)\n",
    "\n",
    "plt.plot(xgraf,yest,'r-')"
   ]
  },
  {
   "cell_type": "code",
   "execution_count": 9,
   "metadata": {},
   "outputs": [
    {
     "name": "stdout",
     "output_type": "stream",
     "text": [
      "[[Model]]\n",
      "    Model(box)\n",
      "[[Fit Statistics]]\n",
      "    # fitting method   = leastsq\n",
      "    # function evals   = 25\n",
      "    # data points      = 15\n",
      "    # variables        = 2\n",
      "    chi-square         = 247.892465\n",
      "    reduced chi-square = 19.0686512\n",
      "    Akaike info crit   = 46.0741726\n",
      "    Bayesian info crit = 47.4902730\n",
      "[[Variables]]\n",
      "    a:  61.6493632 +/- 4.62104040 (7.50%) (init = 60)\n",
      "    b:  0.17843077 +/- 0.03150968 (17.66%) (init = 0.1)\n",
      "[[Correlations]] (unreported correlations are < 0.100)\n",
      "    C(a, b) = -0.933\n"
     ]
    }
   ],
   "source": [
    "from lmfit import Model\n",
    "\n",
    "from numpy import exp, linspace, random\n",
    "\n",
    "#criando um objeto no lmfit\n",
    "\n",
    "modelofinal = Model(box)\n",
    "\n",
    "parametros = modelofinal.make_params(a=60,b=0.1)\n",
    "\n",
    "resultado = modelofinal.fit(yobs,parametros,x=xobs)\n",
    "\n",
    "print(resultado.fit_report())"
   ]
  },
  {
   "cell_type": "code",
   "execution_count": 10,
   "metadata": {},
   "outputs": [
    {
     "data": {
      "text/plain": [
       "<matplotlib.collections.PolyCollection at 0x1b7c835b278>"
      ]
     },
     "execution_count": 10,
     "metadata": {},
     "output_type": "execute_result"
    },
    {
     "data": {
      "image/png": "[encoded data removed]",
      "text/plain": [
       "<Figure size 432x288 with 1 Axes>"
      ]
     },
     "metadata": {
      "needs_background": "light"
     },
     "output_type": "display_data"
    }
   ],
   "source": [
    "plt.plot(xobs,yobs,'bo')\n",
    "\n",
    "plt.plot(xobs,resultado.best_fit,'r--')\n",
    "plt.plot(xobs,resultado.init_fit,'g')\n",
    "\n",
    "dp = resultado.eval_uncertainty(sigma=2)\n",
    "\n",
    "plt.fill_between(xobs,resultado.best_fit-dp,resultado.best_fit+dp, color='lightgray')"
   ]
  },
  {
   "cell_type": "code",
   "execution_count": 14,
   "metadata": {},
   "outputs": [],
   "source": [
    "def logistico (x,ymax,ymin,xo,p):\n",
    "    return ymax+((ymin-ymax)/((1+((x/xo)**p))))"
   ]
  },
  {
   "cell_type": "code",
   "execution_count": 15,
   "metadata": {},
   "outputs": [
    {
     "name": "stdout",
     "output_type": "stream",
     "text": [
      "[[Model]]\n",
      "    Model(logistico)\n",
      "[[Fit Statistics]]\n",
      "    # fitting method   = leastsq\n",
      "    # function evals   = 36\n",
      "    # data points      = 15\n",
      "    # variables        = 4\n",
      "    chi-square         = 49.7352650\n",
      "    reduced chi-square = 4.52138773\n",
      "    Akaike info crit   = 25.9799606\n",
      "    Bayesian info crit = 28.8121614\n",
      "[[Variables]]\n",
      "    ymax:  54.7076747 +/- 1.41479271 (2.59%) (init = 50)\n",
      "    ymin:  2.56143413 +/- 1.59860642 (62.41%) (init = 10)\n",
      "    xo:    3.74622805 +/- 0.16627263 (4.44%) (init = 3)\n",
      "    p:     3.01052079 +/- 0.38602669 (12.82%) (init = 3)\n",
      "[[Correlations]] (unreported correlations are < 0.100)\n",
      "    C(ymax, p)    = -0.744\n",
      "    C(ymin, xo)   =  0.503\n",
      "    C(ymin, p)    =  0.487\n",
      "    C(ymax, xo)   =  0.370\n",
      "    C(ymax, ymin) = -0.262\n"
     ]
    }
   ],
   "source": [
    "#Fazendo estatisticas a partir da biblioteca lmfit, baseado no scipy, com respostas mais completas e mais opções\n",
    "#o pacote precisa ser instalado\n",
    "from lmfit import Model\n",
    "\n",
    "# cadastrando o modelo no pacote lmfit\n",
    "modelo_final=Model(logistico)\n",
    "#adiciona os valores iniciais para determinação dos parametros\n",
    "parametros=modelo_final.make_params(ymax=50,ymin=10,xo=3,p=3)\n",
    "#Construção do modelo propriamente dito\n",
    "resultado1=modelo_final.fit(yobs,parametros,x=xobs)\n",
    "#Imprime um relatório dos resultados\n",
    "print(resultado1.fit_report())"
   ]
  },
  {
   "cell_type": "code",
   "execution_count": 16,
   "metadata": {},
   "outputs": [
    {
     "data": {
      "text/plain": [
       "<matplotlib.collections.PolyCollection at 0x1b7c83adbe0>"
      ]
     },
     "execution_count": 16,
     "metadata": {},
     "output_type": "execute_result"
    },
    {
     "data": {
      "image/png": "[encoded data removed]",
      "text/plain": [
       "<Figure size 432x288 with 1 Axes>"
      ]
     },
     "metadata": {
      "needs_background": "light"
     },
     "output_type": "display_data"
    }
   ],
   "source": [
    "#Gráfico final do metodo lmfit\n",
    "#Grafico dos valores observados\n",
    "plt.plot(xobs,yobs,'k+')\n",
    "#Grafico do modelo\n",
    "plt.plot(xobs,resultado1.best_fit,'k-')\n",
    "#Graico com os valores dos parametros iniciais\n",
    "plt.plot(xobs,resultado1.init_fit,'k--')\n",
    "\n",
    "#Inserindo o intervalo de confiança do ajuste ic (sigma=desvio padrao)\n",
    "dp=resultado.eval_uncertainty(sigma=2)\n",
    "plt.fill_between(xobs,resultado1.best_fit-dp,resultado1.best_fit+dp,color='lightgray')"
   ]
  }
 ],
 "metadata": {
  "kernelspec": {
   "display_name": "Python 3",
   "language": "python",
   "name": "python3"
  },
  "language_info": {
   "codemirror_mode": {
    "name": "ipython",
    "version": 3
   },
   "file_extension": ".py",
   "mimetype": "text/x-python",
   "name": "python",
   "nbconvert_exporter": "python",
   "pygments_lexer": "ipython3",
   "version": "3.7.3"
  }
 },
 "nbformat": 4,
 "nbformat_minor": 2
}
