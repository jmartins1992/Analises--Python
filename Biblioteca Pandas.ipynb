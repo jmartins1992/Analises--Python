{
 "cells": [
  {
   "cell_type": "markdown",
   "metadata": {},
   "source": [
    "Biblioteca pandas"
   ]
  },
  {
   "cell_type": "code",
   "execution_count": 1,
   "metadata": {},
   "outputs": [],
   "source": [
    "#Fazendo o importe da biblioteca\n",
    "import pandas as pd"
   ]
  },
  {
   "cell_type": "code",
   "execution_count": 2,
   "metadata": {},
   "outputs": [
    {
     "data": {
      "text/plain": [
       "0    3000.0\n",
       "1     -50.0\n",
       "2       9.0\n",
       "3      50.0\n",
       "dtype: float64"
      ]
     },
     "execution_count": 2,
     "metadata": {},
     "output_type": "execute_result"
    }
   ],
   "source": [
    "#criar uma serie de dados com indices\n",
    "dados = pd.Series([3000.0,-50.0000,9,50.0000])\n",
    "dados\n"
   ]
  },
  {
   "cell_type": "code",
   "execution_count": 3,
   "metadata": {},
   "outputs": [
    {
     "data": {
      "text/plain": [
       "1     5\n",
       "2    10\n",
       "3    20\n",
       "4    40\n",
       "dtype: int64"
      ]
     },
     "execution_count": 3,
     "metadata": {},
     "output_type": "execute_result"
    }
   ],
   "source": [
    "dados1 = pd.Series([3,5,10,20,40])\n",
    "dados1[1:]"
   ]
  },
  {
   "cell_type": "code",
   "execution_count": 4,
   "metadata": {},
   "outputs": [
    {
     "data": {
      "text/plain": [
       "0       3\n",
       "1       5\n",
       "2     dez\n",
       "3      20\n",
       "4    30.2\n",
       "dtype: object"
      ]
     },
     "execution_count": 4,
     "metadata": {},
     "output_type": "execute_result"
    }
   ],
   "source": [
    "dados2 = pd.Series([3,5,'dez',20,30.2])\n",
    "dados2"
   ]
  },
  {
   "cell_type": "code",
   "execution_count": 5,
   "metadata": {},
   "outputs": [
    {
     "data": {
      "text/plain": [
       "5"
      ]
     },
     "execution_count": 5,
     "metadata": {},
     "output_type": "execute_result"
    }
   ],
   "source": [
    "dados3 = pd.Series([3,-3,5,8],index=['a','b','c','d'])\n",
    "\n",
    "dados3['c']"
   ]
  },
  {
   "cell_type": "code",
   "execution_count": 6,
   "metadata": {},
   "outputs": [
    {
     "data": {
      "text/plain": [
       "a    3\n",
       "b   -3\n",
       "c    5\n",
       "d    8\n",
       "dtype: int64"
      ]
     },
     "execution_count": 6,
     "metadata": {},
     "output_type": "execute_result"
    }
   ],
   "source": [
    "#Comando para trazer as 5 primeiras linhas do objeto e o tipo dele\n",
    "dados3.head()"
   ]
  },
  {
   "cell_type": "code",
   "execution_count": 7,
   "metadata": {},
   "outputs": [
    {
     "data": {
      "text/plain": [
       "count    4.000000\n",
       "mean     3.250000\n",
       "std      4.645787\n",
       "min     -3.000000\n",
       "25%      1.500000\n",
       "50%      4.000000\n",
       "75%      5.750000\n",
       "max      8.000000\n",
       "dtype: float64"
      ]
     },
     "execution_count": 7,
     "metadata": {},
     "output_type": "execute_result"
    }
   ],
   "source": [
    "dados3.describe()"
   ]
  },
  {
   "cell_type": "markdown",
   "metadata": {},
   "source": [
    "Fazendo leitura de dados do Excell(pandas.read_csv)"
   ]
  },
  {
   "cell_type": "code",
   "execution_count": 8,
   "metadata": {
    "scrolled": true
   },
   "outputs": [
    {
     "data": {
      "text/plain": [
       "array([[11, 12, 73, 14],\n",
       "       [15, 13, 61, 26],\n",
       "       [13, 14, 68, 18],\n",
       "       ...,\n",
       "       [14, 19, 54, 27],\n",
       "       [10, 17, 59, 23],\n",
       "       [13, 16, 68, 17]], dtype=int64)"
      ]
     },
     "execution_count": 8,
     "metadata": {},
     "output_type": "execute_result"
    }
   ],
   "source": [
    "import pandas as pd\n",
    "import numpy as np\n",
    "\n",
    "dados3 = pd.read_csv(\"carbono.csv\", sep=\",\")\n",
    "dados4 = np.array(dados3)\n",
    "#soc carbono organico no solo\n",
    "#sand quantidade de areia presente no solo\n",
    "#clay quantidade de argila presente no solo\n",
    "#silt é uma das frações minerais que formam o solo\n",
    "#(A textura do solo vai variar de acordo com a proporção de cada um deles....)\n",
    "\n",
    "dados4"
   ]
  },
  {
   "cell_type": "code",
   "execution_count": 9,
   "metadata": {},
   "outputs": [
    {
     "data": {
      "text/html": [
       "<div>\n",
       "<style scoped>\n",
       "    .dataframe tbody tr th:only-of-type {\n",
       "        vertical-align: middle;\n",
       "    }\n",
       "\n",
       "    .dataframe tbody tr th {\n",
       "        vertical-align: top;\n",
       "    }\n",
       "\n",
       "    .dataframe thead th {\n",
       "        text-align: right;\n",
       "    }\n",
       "</style>\n",
       "<table border=\"1\" class=\"dataframe\">\n",
       "  <thead>\n",
       "    <tr style=\"text-align: right;\">\n",
       "      <th></th>\n",
       "      <th>0</th>\n",
       "      <th>1</th>\n",
       "      <th>2</th>\n",
       "      <th>3</th>\n",
       "      <th>4</th>\n",
       "      <th>5</th>\n",
       "      <th>6</th>\n",
       "      <th>7</th>\n",
       "      <th>8</th>\n",
       "      <th>9</th>\n",
       "      <th>...</th>\n",
       "      <th>990</th>\n",
       "      <th>991</th>\n",
       "      <th>992</th>\n",
       "      <th>993</th>\n",
       "      <th>994</th>\n",
       "      <th>995</th>\n",
       "      <th>996</th>\n",
       "      <th>997</th>\n",
       "      <th>998</th>\n",
       "      <th>999</th>\n",
       "    </tr>\n",
       "  </thead>\n",
       "  <tbody>\n",
       "    <tr>\n",
       "      <th>X</th>\n",
       "      <td>6.909.930.441</td>\n",
       "      <td>2.283.529.239</td>\n",
       "      <td>5.934.107.475</td>\n",
       "      <td>9.022.876.044</td>\n",
       "      <td>587.330.066</td>\n",
       "      <td>7.417.711.868</td>\n",
       "      <td>2.904.547.851</td>\n",
       "      <td>7.610.339.071</td>\n",
       "      <td>9.901.694.385</td>\n",
       "      <td>9.962.770.252</td>\n",
       "      <td>...</td>\n",
       "      <td>0.353683696</td>\n",
       "      <td>8.145.101.431</td>\n",
       "      <td>6.553.630.407</td>\n",
       "      <td>296.389.714</td>\n",
       "      <td>4.962.445.043</td>\n",
       "      <td>2.790.641.324</td>\n",
       "      <td>2.024.599.814</td>\n",
       "      <td>4.696.046.193</td>\n",
       "      <td>179.894.583</td>\n",
       "      <td>1.300.741.185</td>\n",
       "    </tr>\n",
       "    <tr>\n",
       "      <th>Y</th>\n",
       "      <td>2.255.211.975</td>\n",
       "      <td>1.022.628.884</td>\n",
       "      <td>2.070.435.779</td>\n",
       "      <td>2.845.807.877</td>\n",
       "      <td>1.656.148.105</td>\n",
       "      <td>2.826.531.126</td>\n",
       "      <td>1.858.004.939</td>\n",
       "      <td>3.090.519.364</td>\n",
       "      <td>2.180.107.665</td>\n",
       "      <td>3.661.287.332</td>\n",
       "      <td>...</td>\n",
       "      <td>5.243.191.248</td>\n",
       "      <td>2.811.400.361</td>\n",
       "      <td>3.207.047.863</td>\n",
       "      <td>1.628.532.807</td>\n",
       "      <td>2.293.303.753</td>\n",
       "      <td>2.382.872.625</td>\n",
       "      <td>2.621.782.378</td>\n",
       "      <td>1.369.752.041</td>\n",
       "      <td>2.247.908.394</td>\n",
       "      <td>9.191.667.855</td>\n",
       "    </tr>\n",
       "  </tbody>\n",
       "</table>\n",
       "<p>2 rows × 1000 columns</p>\n",
       "</div>"
      ],
      "text/plain": [
       "             0              1              2              3              4    \\\n",
       "X  6.909.930.441  2.283.529.239  5.934.107.475  9.022.876.044    587.330.066   \n",
       "Y  2.255.211.975  1.022.628.884  2.070.435.779  2.845.807.877  1.656.148.105   \n",
       "\n",
       "             5              6              7              8              9    \\\n",
       "X  7.417.711.868  2.904.547.851  7.610.339.071  9.901.694.385  9.962.770.252   \n",
       "Y  2.826.531.126  1.858.004.939  3.090.519.364  2.180.107.665  3.661.287.332   \n",
       "\n",
       "   ...            990            991            992            993  \\\n",
       "X  ...    0.353683696  8.145.101.431  6.553.630.407    296.389.714   \n",
       "Y  ...  5.243.191.248  2.811.400.361  3.207.047.863  1.628.532.807   \n",
       "\n",
       "             994            995            996            997            998  \\\n",
       "X  4.962.445.043  2.790.641.324  2.024.599.814  4.696.046.193    179.894.583   \n",
       "Y  2.293.303.753  2.382.872.625  2.621.782.378  1.369.752.041  2.247.908.394   \n",
       "\n",
       "             999  \n",
       "X  1.300.741.185  \n",
       "Y  9.191.667.855  \n",
       "\n",
       "[2 rows x 1000 columns]"
      ]
     },
     "execution_count": 9,
     "metadata": {},
     "output_type": "execute_result"
    }
   ],
   "source": [
    "#caso quiser converter virgula para ponto ou vice e versa\n",
    "\n",
    "dadosTeste = pd.read_csv(\"exemplo.csv\", sep=\";\")\n",
    "\n",
    "\n",
    "\n",
    "dados4=dadosTeste.apply(lambda x: x.str.replace(',','.'))\n",
    "\n",
    "dados4.transpose()\n"
   ]
  },
  {
   "cell_type": "code",
   "execution_count": 10,
   "metadata": {},
   "outputs": [
    {
     "data": {
      "text/html": [
       "<div>\n",
       "<style scoped>\n",
       "    .dataframe tbody tr th:only-of-type {\n",
       "        vertical-align: middle;\n",
       "    }\n",
       "\n",
       "    .dataframe tbody tr th {\n",
       "        vertical-align: top;\n",
       "    }\n",
       "\n",
       "    .dataframe thead th {\n",
       "        text-align: right;\n",
       "    }\n",
       "</style>\n",
       "<table border=\"1\" class=\"dataframe\">\n",
       "  <thead>\n",
       "    <tr style=\"text-align: right;\">\n",
       "      <th></th>\n",
       "      <th>SOC</th>\n",
       "      <th>Silt</th>\n",
       "      <th>Sand</th>\n",
       "      <th>Clay</th>\n",
       "    </tr>\n",
       "  </thead>\n",
       "  <tbody>\n",
       "    <tr>\n",
       "      <th>count</th>\n",
       "      <td>3849.00000</td>\n",
       "      <td>3849.000000</td>\n",
       "      <td>3849.000000</td>\n",
       "      <td>3849.000000</td>\n",
       "    </tr>\n",
       "    <tr>\n",
       "      <th>mean</th>\n",
       "      <td>13.12159</td>\n",
       "      <td>14.650299</td>\n",
       "      <td>61.712133</td>\n",
       "      <td>23.608730</td>\n",
       "    </tr>\n",
       "    <tr>\n",
       "      <th>std</th>\n",
       "      <td>2.35025</td>\n",
       "      <td>2.335620</td>\n",
       "      <td>5.534316</td>\n",
       "      <td>4.877948</td>\n",
       "    </tr>\n",
       "    <tr>\n",
       "      <th>min</th>\n",
       "      <td>7.00000</td>\n",
       "      <td>7.000000</td>\n",
       "      <td>37.000000</td>\n",
       "      <td>14.000000</td>\n",
       "    </tr>\n",
       "    <tr>\n",
       "      <th>25%</th>\n",
       "      <td>12.00000</td>\n",
       "      <td>13.000000</td>\n",
       "      <td>59.000000</td>\n",
       "      <td>20.000000</td>\n",
       "    </tr>\n",
       "    <tr>\n",
       "      <th>50%</th>\n",
       "      <td>13.00000</td>\n",
       "      <td>15.000000</td>\n",
       "      <td>63.000000</td>\n",
       "      <td>22.000000</td>\n",
       "    </tr>\n",
       "    <tr>\n",
       "      <th>75%</th>\n",
       "      <td>15.00000</td>\n",
       "      <td>16.000000</td>\n",
       "      <td>65.000000</td>\n",
       "      <td>25.000000</td>\n",
       "    </tr>\n",
       "    <tr>\n",
       "      <th>max</th>\n",
       "      <td>20.00000</td>\n",
       "      <td>23.000000</td>\n",
       "      <td>74.000000</td>\n",
       "      <td>45.000000</td>\n",
       "    </tr>\n",
       "  </tbody>\n",
       "</table>\n",
       "</div>"
      ],
      "text/plain": [
       "              SOC         Silt         Sand         Clay\n",
       "count  3849.00000  3849.000000  3849.000000  3849.000000\n",
       "mean     13.12159    14.650299    61.712133    23.608730\n",
       "std       2.35025     2.335620     5.534316     4.877948\n",
       "min       7.00000     7.000000    37.000000    14.000000\n",
       "25%      12.00000    13.000000    59.000000    20.000000\n",
       "50%      13.00000    15.000000    63.000000    22.000000\n",
       "75%      15.00000    16.000000    65.000000    25.000000\n",
       "max      20.00000    23.000000    74.000000    45.000000"
      ]
     },
     "execution_count": 10,
     "metadata": {},
     "output_type": "execute_result"
    }
   ],
   "source": [
    "dados3.describe()"
   ]
  },
  {
   "cell_type": "code",
   "execution_count": 11,
   "metadata": {},
   "outputs": [
    {
     "data": {
      "text/html": [
       "<div>\n",
       "<style scoped>\n",
       "    .dataframe tbody tr th:only-of-type {\n",
       "        vertical-align: middle;\n",
       "    }\n",
       "\n",
       "    .dataframe tbody tr th {\n",
       "        vertical-align: top;\n",
       "    }\n",
       "\n",
       "    .dataframe thead th {\n",
       "        text-align: right;\n",
       "    }\n",
       "</style>\n",
       "<table border=\"1\" class=\"dataframe\">\n",
       "  <thead>\n",
       "    <tr style=\"text-align: right;\">\n",
       "      <th></th>\n",
       "      <th>SOC</th>\n",
       "      <th>Silt</th>\n",
       "      <th>Sand</th>\n",
       "      <th>Clay</th>\n",
       "    </tr>\n",
       "  </thead>\n",
       "  <tbody>\n",
       "    <tr>\n",
       "      <th>SOC</th>\n",
       "      <td>1.000000</td>\n",
       "      <td>0.359832</td>\n",
       "      <td>-0.389408</td>\n",
       "      <td>0.270818</td>\n",
       "    </tr>\n",
       "    <tr>\n",
       "      <th>Silt</th>\n",
       "      <td>0.359832</td>\n",
       "      <td>1.000000</td>\n",
       "      <td>-0.479186</td>\n",
       "      <td>0.071768</td>\n",
       "    </tr>\n",
       "    <tr>\n",
       "      <th>Sand</th>\n",
       "      <td>-0.389408</td>\n",
       "      <td>-0.479186</td>\n",
       "      <td>1.000000</td>\n",
       "      <td>-0.905435</td>\n",
       "    </tr>\n",
       "    <tr>\n",
       "      <th>Clay</th>\n",
       "      <td>0.270818</td>\n",
       "      <td>0.071768</td>\n",
       "      <td>-0.905435</td>\n",
       "      <td>1.000000</td>\n",
       "    </tr>\n",
       "  </tbody>\n",
       "</table>\n",
       "</div>"
      ],
      "text/plain": [
       "           SOC      Silt      Sand      Clay\n",
       "SOC   1.000000  0.359832 -0.389408  0.270818\n",
       "Silt  0.359832  1.000000 -0.479186  0.071768\n",
       "Sand -0.389408 -0.479186  1.000000 -0.905435\n",
       "Clay  0.270818  0.071768 -0.905435  1.000000"
      ]
     },
     "execution_count": 11,
     "metadata": {},
     "output_type": "execute_result"
    }
   ],
   "source": [
    "#Calculando a matriz de correlações entre as variáveis\n",
    "#Preste atenção que a matriz de correlação sempre tem que ser\n",
    "#simétrica e ter 1s na diagonal principal:\n",
    "corr2 = dados3.corr(method='pearson')\n",
    "corr2"
   ]
  },
  {
   "cell_type": "code",
   "execution_count": 12,
   "metadata": {},
   "outputs": [
    {
     "data": {
      "text/plain": [
       "SOC      5.523674\n",
       "Silt     5.455120\n",
       "Sand    30.628650\n",
       "Clay    23.794373\n",
       "dtype: float64"
      ]
     },
     "execution_count": 12,
     "metadata": {},
     "output_type": "execute_result"
    }
   ],
   "source": [
    "dados3.var()"
   ]
  },
  {
   "cell_type": "code",
   "execution_count": 13,
   "metadata": {},
   "outputs": [
    {
     "data": {
      "text/plain": [
       "0       11\n",
       "1       15\n",
       "2       13\n",
       "3       13\n",
       "4       11\n",
       "5       16\n",
       "6       10\n",
       "7       13\n",
       "8       10\n",
       "9       11\n",
       "10      14\n",
       "11      14\n",
       "12      17\n",
       "13      10\n",
       "14       9\n",
       "15      15\n",
       "16      12\n",
       "17      14\n",
       "18      15\n",
       "19      18\n",
       "20      18\n",
       "21      12\n",
       "22      17\n",
       "23      12\n",
       "24      14\n",
       "25      14\n",
       "26      13\n",
       "27      13\n",
       "28      12\n",
       "29      14\n",
       "        ..\n",
       "3819    17\n",
       "3820    15\n",
       "3821    11\n",
       "3822    16\n",
       "3823    13\n",
       "3824    14\n",
       "3825    11\n",
       "3826    13\n",
       "3827    13\n",
       "3828    18\n",
       "3829    12\n",
       "3830    13\n",
       "3831    14\n",
       "3832    16\n",
       "3833    10\n",
       "3834    16\n",
       "3835    13\n",
       "3836    16\n",
       "3837    10\n",
       "3838    15\n",
       "3839    13\n",
       "3840    13\n",
       "3841    11\n",
       "3842    16\n",
       "3843    13\n",
       "3844    17\n",
       "3845    11\n",
       "3846    14\n",
       "3847    10\n",
       "3848    13\n",
       "Name: SOC, Length: 3849, dtype: int64"
      ]
     },
     "execution_count": 13,
     "metadata": {},
     "output_type": "execute_result"
    }
   ],
   "source": [
    "dados3['SOC']"
   ]
  }
 ],
 "metadata": {
  "kernelspec": {
   "display_name": "Python 3",
   "language": "python",
   "name": "python3"
  },
  "language_info": {
   "codemirror_mode": {
    "name": "ipython",
    "version": 3
   },
   "file_extension": ".py",
   "mimetype": "text/x-python",
   "name": "python",
   "nbconvert_exporter": "python",
   "pygments_lexer": "ipython3",
   "version": "3.7.3"
  }
 },
 "nbformat": 4,
 "nbformat_minor": 2
}
