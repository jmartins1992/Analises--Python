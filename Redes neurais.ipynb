{
 "cells": [
  {
   "cell_type": "code",
   "execution_count": 14,
   "metadata": {},
   "outputs": [
    {
     "data": {
      "text/html": [
       "<div>\n",
       "<style scoped>\n",
       "    .dataframe tbody tr th:only-of-type {\n",
       "        vertical-align: middle;\n",
       "    }\n",
       "\n",
       "    .dataframe tbody tr th {\n",
       "        vertical-align: top;\n",
       "    }\n",
       "\n",
       "    .dataframe thead th {\n",
       "        text-align: right;\n",
       "    }\n",
       "</style>\n",
       "<table border=\"1\" class=\"dataframe\">\n",
       "  <thead>\n",
       "    <tr style=\"text-align: right;\">\n",
       "      <th></th>\n",
       "      <th>count</th>\n",
       "      <th>mean</th>\n",
       "      <th>std</th>\n",
       "      <th>min</th>\n",
       "      <th>25%</th>\n",
       "      <th>50%</th>\n",
       "      <th>75%</th>\n",
       "      <th>max</th>\n",
       "    </tr>\n",
       "  </thead>\n",
       "  <tbody>\n",
       "    <tr>\n",
       "      <th>Cultivator</th>\n",
       "      <td>178.0</td>\n",
       "      <td>1.938202</td>\n",
       "      <td>0.775035</td>\n",
       "      <td>1.00</td>\n",
       "      <td>1.0000</td>\n",
       "      <td>2.000</td>\n",
       "      <td>3.0000</td>\n",
       "      <td>3.00</td>\n",
       "    </tr>\n",
       "    <tr>\n",
       "      <th>Alchol</th>\n",
       "      <td>178.0</td>\n",
       "      <td>13.000618</td>\n",
       "      <td>0.811827</td>\n",
       "      <td>11.03</td>\n",
       "      <td>12.3625</td>\n",
       "      <td>13.050</td>\n",
       "      <td>13.6775</td>\n",
       "      <td>14.83</td>\n",
       "    </tr>\n",
       "    <tr>\n",
       "      <th>Malic_Acid</th>\n",
       "      <td>178.0</td>\n",
       "      <td>2.336348</td>\n",
       "      <td>1.117146</td>\n",
       "      <td>0.74</td>\n",
       "      <td>1.6025</td>\n",
       "      <td>1.865</td>\n",
       "      <td>3.0825</td>\n",
       "      <td>5.80</td>\n",
       "    </tr>\n",
       "    <tr>\n",
       "      <th>Ash</th>\n",
       "      <td>178.0</td>\n",
       "      <td>2.366517</td>\n",
       "      <td>0.274344</td>\n",
       "      <td>1.36</td>\n",
       "      <td>2.2100</td>\n",
       "      <td>2.360</td>\n",
       "      <td>2.5575</td>\n",
       "      <td>3.23</td>\n",
       "    </tr>\n",
       "    <tr>\n",
       "      <th>Alcalinity_of_Ash</th>\n",
       "      <td>178.0</td>\n",
       "      <td>19.494944</td>\n",
       "      <td>3.339564</td>\n",
       "      <td>10.60</td>\n",
       "      <td>17.2000</td>\n",
       "      <td>19.500</td>\n",
       "      <td>21.5000</td>\n",
       "      <td>30.00</td>\n",
       "    </tr>\n",
       "    <tr>\n",
       "      <th>Magnesium</th>\n",
       "      <td>178.0</td>\n",
       "      <td>99.741573</td>\n",
       "      <td>14.282484</td>\n",
       "      <td>70.00</td>\n",
       "      <td>88.0000</td>\n",
       "      <td>98.000</td>\n",
       "      <td>107.0000</td>\n",
       "      <td>162.00</td>\n",
       "    </tr>\n",
       "    <tr>\n",
       "      <th>Total_phenols</th>\n",
       "      <td>178.0</td>\n",
       "      <td>2.295112</td>\n",
       "      <td>0.625851</td>\n",
       "      <td>0.98</td>\n",
       "      <td>1.7425</td>\n",
       "      <td>2.355</td>\n",
       "      <td>2.8000</td>\n",
       "      <td>3.88</td>\n",
       "    </tr>\n",
       "    <tr>\n",
       "      <th>Falvanoids</th>\n",
       "      <td>178.0</td>\n",
       "      <td>2.029270</td>\n",
       "      <td>0.998859</td>\n",
       "      <td>0.34</td>\n",
       "      <td>1.2050</td>\n",
       "      <td>2.135</td>\n",
       "      <td>2.8750</td>\n",
       "      <td>5.08</td>\n",
       "    </tr>\n",
       "    <tr>\n",
       "      <th>Noflavanoid_phenols</th>\n",
       "      <td>178.0</td>\n",
       "      <td>0.361854</td>\n",
       "      <td>0.124453</td>\n",
       "      <td>0.13</td>\n",
       "      <td>0.2700</td>\n",
       "      <td>0.340</td>\n",
       "      <td>0.4375</td>\n",
       "      <td>0.66</td>\n",
       "    </tr>\n",
       "    <tr>\n",
       "      <th>Proanthocyanins</th>\n",
       "      <td>178.0</td>\n",
       "      <td>1.590899</td>\n",
       "      <td>0.572359</td>\n",
       "      <td>0.41</td>\n",
       "      <td>1.2500</td>\n",
       "      <td>1.555</td>\n",
       "      <td>1.9500</td>\n",
       "      <td>3.58</td>\n",
       "    </tr>\n",
       "    <tr>\n",
       "      <th>Color_intensity</th>\n",
       "      <td>178.0</td>\n",
       "      <td>5.058090</td>\n",
       "      <td>2.318286</td>\n",
       "      <td>1.28</td>\n",
       "      <td>3.2200</td>\n",
       "      <td>4.690</td>\n",
       "      <td>6.2000</td>\n",
       "      <td>13.00</td>\n",
       "    </tr>\n",
       "    <tr>\n",
       "      <th>Hue</th>\n",
       "      <td>178.0</td>\n",
       "      <td>0.957449</td>\n",
       "      <td>0.228572</td>\n",
       "      <td>0.48</td>\n",
       "      <td>0.7825</td>\n",
       "      <td>0.965</td>\n",
       "      <td>1.1200</td>\n",
       "      <td>1.71</td>\n",
       "    </tr>\n",
       "    <tr>\n",
       "      <th>OD280</th>\n",
       "      <td>178.0</td>\n",
       "      <td>2.611685</td>\n",
       "      <td>0.709990</td>\n",
       "      <td>1.27</td>\n",
       "      <td>1.9375</td>\n",
       "      <td>2.780</td>\n",
       "      <td>3.1700</td>\n",
       "      <td>4.00</td>\n",
       "    </tr>\n",
       "    <tr>\n",
       "      <th>Proline</th>\n",
       "      <td>178.0</td>\n",
       "      <td>746.893258</td>\n",
       "      <td>314.907474</td>\n",
       "      <td>278.00</td>\n",
       "      <td>500.5000</td>\n",
       "      <td>673.500</td>\n",
       "      <td>985.0000</td>\n",
       "      <td>1680.00</td>\n",
       "    </tr>\n",
       "  </tbody>\n",
       "</table>\n",
       "</div>"
      ],
      "text/plain": [
       "                     count        mean         std     min       25%      50%  \\\n",
       "Cultivator           178.0    1.938202    0.775035    1.00    1.0000    2.000   \n",
       "Alchol               178.0   13.000618    0.811827   11.03   12.3625   13.050   \n",
       "Malic_Acid           178.0    2.336348    1.117146    0.74    1.6025    1.865   \n",
       "Ash                  178.0    2.366517    0.274344    1.36    2.2100    2.360   \n",
       "Alcalinity_of_Ash    178.0   19.494944    3.339564   10.60   17.2000   19.500   \n",
       "Magnesium            178.0   99.741573   14.282484   70.00   88.0000   98.000   \n",
       "Total_phenols        178.0    2.295112    0.625851    0.98    1.7425    2.355   \n",
       "Falvanoids           178.0    2.029270    0.998859    0.34    1.2050    2.135   \n",
       "Noflavanoid_phenols  178.0    0.361854    0.124453    0.13    0.2700    0.340   \n",
       "Proanthocyanins      178.0    1.590899    0.572359    0.41    1.2500    1.555   \n",
       "Color_intensity      178.0    5.058090    2.318286    1.28    3.2200    4.690   \n",
       "Hue                  178.0    0.957449    0.228572    0.48    0.7825    0.965   \n",
       "OD280                178.0    2.611685    0.709990    1.27    1.9375    2.780   \n",
       "Proline              178.0  746.893258  314.907474  278.00  500.5000  673.500   \n",
       "\n",
       "                          75%      max  \n",
       "Cultivator             3.0000     3.00  \n",
       "Alchol                13.6775    14.83  \n",
       "Malic_Acid             3.0825     5.80  \n",
       "Ash                    2.5575     3.23  \n",
       "Alcalinity_of_Ash     21.5000    30.00  \n",
       "Magnesium            107.0000   162.00  \n",
       "Total_phenols          2.8000     3.88  \n",
       "Falvanoids             2.8750     5.08  \n",
       "Noflavanoid_phenols    0.4375     0.66  \n",
       "Proanthocyanins        1.9500     3.58  \n",
       "Color_intensity        6.2000    13.00  \n",
       "Hue                    1.1200     1.71  \n",
       "OD280                  3.1700     4.00  \n",
       "Proline              985.0000  1680.00  "
      ]
     },
     "execution_count": 14,
     "metadata": {},
     "output_type": "execute_result"
    }
   ],
   "source": [
    "import pandas as pd\n",
    "wine = pd.read_csv('wine_data.csv',names=[\"Cultivator\",\n",
    "                                          \"Alchol\",\n",
    "                                          \"Malic_Acid\",\n",
    "                                          \"Ash\",\n",
    "                                          \"Alcalinity_of_Ash\",\n",
    "                                          \"Magnesium\",\n",
    "                                          \"Total_phenols\",\n",
    "                                          \"Falvanoids\",\n",
    "                                          \"Noflavanoid_phenols\",\n",
    "                                          \"Proanthocyanins\",\n",
    "                                          \"Color_intensity\",\n",
    "                                          \"Hue\",\n",
    "                                          \"OD280\",\n",
    "                                          \"Proline\"])\n",
    "\n",
    "wine.describe().transpose()"
   ]
  },
  {
   "cell_type": "code",
   "execution_count": 15,
   "metadata": {},
   "outputs": [
    {
     "data": {
      "text/plain": [
       "(178, 14)"
      ]
     },
     "execution_count": 15,
     "metadata": {},
     "output_type": "execute_result"
    }
   ],
   "source": [
    "wine.shape"
   ]
  },
  {
   "cell_type": "code",
   "execution_count": 16,
   "metadata": {},
   "outputs": [],
   "source": [
    "#variavel depenente y\n",
    "\n",
    "X = wine.drop('Cultivator',axis=1)#dados referentes a todo objeto menos a primeira linha\n",
    "y= wine['Cultivator']#dados referentes a primeira coluna\n",
    "\n"
   ]
  },
  {
   "cell_type": "code",
   "execution_count": 17,
   "metadata": {},
   "outputs": [
    {
     "data": {
      "text/plain": [
       "(133, 13)"
      ]
     },
     "execution_count": 17,
     "metadata": {},
     "output_type": "execute_result"
    }
   ],
   "source": [
    "# separando os dados para o teste \n",
    "\n",
    "from sklearn.model_selection import train_test_split\n",
    "\n",
    "X_train, X_test,y_train,y_test = train_test_split(X,y)\n",
    "\n",
    "X_train.shape"
   ]
  },
  {
   "cell_type": "code",
   "execution_count": 18,
   "metadata": {},
   "outputs": [],
   "source": [
    "#padronizar os dados\n",
    "\n",
    "from sklearn.preprocessing import StandardScaler\n",
    "\n",
    "scaler = StandardScaler()\n",
    "\n",
    "scaler.fit(X_train)\n",
    "X_train = scaler.transform(X_train)\n",
    "X_test = scaler.transform(X_test)\n"
   ]
  },
  {
   "cell_type": "code",
   "execution_count": 19,
   "metadata": {},
   "outputs": [],
   "source": [
    "#treinamento\n",
    "\n",
    "from sklearn.neural_network import MLPClassifier\n",
    "\n",
    "mlp = MLPClassifier(verbose=True,activation='tanh',hidden_layer_sizes=(5,5,5))\n"
   ]
  },
  {
   "cell_type": "code",
   "execution_count": 20,
   "metadata": {},
   "outputs": [
    {
     "name": "stdout",
     "output_type": "stream",
     "text": [
      "Iteration 1, loss = 1.47265110\n",
      "Iteration 2, loss = 1.46566017\n",
      "Iteration 3, loss = 1.45874228\n",
      "Iteration 4, loss = 1.45189484\n",
      "Iteration 5, loss = 1.44511842\n",
      "Iteration 6, loss = 1.43841374\n",
      "Iteration 7, loss = 1.43178112\n",
      "Iteration 8, loss = 1.42522060\n",
      "Iteration 9, loss = 1.41873219\n",
      "Iteration 10, loss = 1.41231597\n",
      "Iteration 11, loss = 1.40597206\n",
      "Iteration 12, loss = 1.39970063\n",
      "Iteration 13, loss = 1.39350184\n",
      "Iteration 14, loss = 1.38737586\n",
      "Iteration 15, loss = 1.38132278\n",
      "Iteration 16, loss = 1.37534260\n",
      "Iteration 17, loss = 1.36943521\n",
      "Iteration 18, loss = 1.36360035\n",
      "Iteration 19, loss = 1.35783760\n",
      "Iteration 20, loss = 1.35214640\n",
      "Iteration 21, loss = 1.34652601\n",
      "Iteration 22, loss = 1.34097552\n",
      "Iteration 23, loss = 1.33549388\n",
      "Iteration 24, loss = 1.33007989\n",
      "Iteration 25, loss = 1.32473220\n",
      "Iteration 26, loss = 1.31944938\n",
      "Iteration 27, loss = 1.31422990\n",
      "Iteration 28, loss = 1.30907220\n",
      "Iteration 29, loss = 1.30397468\n",
      "Iteration 30, loss = 1.29893572\n",
      "Iteration 31, loss = 1.29395373\n",
      "Iteration 32, loss = 1.28902712\n",
      "Iteration 33, loss = 1.28415432\n",
      "Iteration 34, loss = 1.27933379\n",
      "Iteration 35, loss = 1.27456403\n",
      "Iteration 36, loss = 1.26984355\n",
      "Iteration 37, loss = 1.26517093\n",
      "Iteration 38, loss = 1.26054477\n",
      "Iteration 39, loss = 1.25596371\n",
      "Iteration 40, loss = 1.25142644\n",
      "Iteration 41, loss = 1.24693171\n",
      "Iteration 42, loss = 1.24247828\n",
      "Iteration 43, loss = 1.23806497\n",
      "Iteration 44, loss = 1.23369064\n",
      "Iteration 45, loss = 1.22935417\n",
      "Iteration 46, loss = 1.22505450\n",
      "Iteration 47, loss = 1.22079055\n",
      "Iteration 48, loss = 1.21656131\n",
      "Iteration 49, loss = 1.21236577\n",
      "Iteration 50, loss = 1.20820291\n",
      "Iteration 51, loss = 1.20407175\n",
      "Iteration 52, loss = 1.19997131\n",
      "Iteration 53, loss = 1.19590061\n",
      "Iteration 54, loss = 1.19185865\n",
      "Iteration 55, loss = 1.18784447\n",
      "Iteration 56, loss = 1.18385708\n",
      "Iteration 57, loss = 1.17989548\n",
      "Iteration 58, loss = 1.17595870\n",
      "Iteration 59, loss = 1.17204574\n",
      "Iteration 60, loss = 1.16815561\n",
      "Iteration 61, loss = 1.16428732\n",
      "Iteration 62, loss = 1.16043989\n",
      "Iteration 63, loss = 1.15661232\n",
      "Iteration 64, loss = 1.15280365\n",
      "Iteration 65, loss = 1.14901291\n",
      "Iteration 66, loss = 1.14523915\n",
      "Iteration 67, loss = 1.14148143\n",
      "Iteration 68, loss = 1.13773881\n",
      "Iteration 69, loss = 1.13401041\n",
      "Iteration 70, loss = 1.13029533\n",
      "Iteration 71, loss = 1.12659271\n",
      "Iteration 72, loss = 1.12290173\n",
      "Iteration 73, loss = 1.11922156\n",
      "Iteration 74, loss = 1.11555143\n",
      "Iteration 75, loss = 1.11189059\n",
      "Iteration 76, loss = 1.10823833\n",
      "Iteration 77, loss = 1.10459395\n",
      "Iteration 78, loss = 1.10095681\n",
      "Iteration 79, loss = 1.09732629\n",
      "Iteration 80, loss = 1.09370180\n",
      "Iteration 81, loss = 1.09008280\n",
      "Iteration 82, loss = 1.08646878\n",
      "Iteration 83, loss = 1.08285927\n",
      "Iteration 84, loss = 1.07925383\n",
      "Iteration 85, loss = 1.07565204\n",
      "Iteration 86, loss = 1.07205355\n",
      "Iteration 87, loss = 1.06845802\n",
      "Iteration 88, loss = 1.06486514\n",
      "Iteration 89, loss = 1.06127464\n",
      "Iteration 90, loss = 1.05768629\n",
      "Iteration 91, loss = 1.05409986\n",
      "Iteration 92, loss = 1.05051518\n",
      "Iteration 93, loss = 1.04693208\n",
      "Iteration 94, loss = 1.04335043\n",
      "Iteration 95, loss = 1.03977011\n",
      "Iteration 96, loss = 1.03619102\n",
      "Iteration 97, loss = 1.03261309\n",
      "Iteration 98, loss = 1.02903627\n",
      "Iteration 99, loss = 1.02546049\n",
      "Iteration 100, loss = 1.02188573\n",
      "Iteration 101, loss = 1.01831197\n",
      "Iteration 102, loss = 1.01473919\n",
      "Iteration 103, loss = 1.01116739\n",
      "Iteration 104, loss = 1.00759657\n",
      "Iteration 105, loss = 1.00402674\n",
      "Iteration 106, loss = 1.00045790\n",
      "Iteration 107, loss = 0.99689008\n",
      "Iteration 108, loss = 0.99332327\n",
      "Iteration 109, loss = 0.98975751\n",
      "Iteration 110, loss = 0.98619280\n",
      "Iteration 111, loss = 0.98262915\n",
      "Iteration 112, loss = 0.97906658\n",
      "Iteration 113, loss = 0.97550510\n",
      "Iteration 114, loss = 0.97194470\n",
      "Iteration 115, loss = 0.96838540\n",
      "Iteration 116, loss = 0.96482719\n",
      "Iteration 117, loss = 0.96127006\n",
      "Iteration 118, loss = 0.95771401\n",
      "Iteration 119, loss = 0.95415903\n",
      "Iteration 120, loss = 0.95060510\n",
      "Iteration 121, loss = 0.94705221\n",
      "Iteration 122, loss = 0.94350034\n",
      "Iteration 123, loss = 0.93994948\n",
      "Iteration 124, loss = 0.93639961\n",
      "Iteration 125, loss = 0.93285071\n",
      "Iteration 126, loss = 0.92930277\n",
      "Iteration 127, loss = 0.92575577\n",
      "Iteration 128, loss = 0.92220970\n",
      "Iteration 129, loss = 0.91866456\n",
      "Iteration 130, loss = 0.91512033\n",
      "Iteration 131, loss = 0.91157701\n",
      "Iteration 132, loss = 0.90803459\n",
      "Iteration 133, loss = 0.90449307\n",
      "Iteration 134, loss = 0.90095246\n",
      "Iteration 135, loss = 0.89741275\n",
      "Iteration 136, loss = 0.89387393\n",
      "Iteration 137, loss = 0.89033602\n",
      "Iteration 138, loss = 0.88679902\n",
      "Iteration 139, loss = 0.88326291\n",
      "Iteration 140, loss = 0.87972771\n",
      "Iteration 141, loss = 0.87619341\n",
      "Iteration 142, loss = 0.87266000\n",
      "Iteration 143, loss = 0.86912748\n",
      "Iteration 144, loss = 0.86559583\n",
      "Iteration 145, loss = 0.86206504\n",
      "Iteration 146, loss = 0.85853510\n",
      "Iteration 147, loss = 0.85500597\n",
      "Iteration 148, loss = 0.85147763\n",
      "Iteration 149, loss = 0.84795004\n",
      "Iteration 150, loss = 0.84442317\n",
      "Iteration 151, loss = 0.84089696\n",
      "Iteration 152, loss = 0.83737137\n",
      "Iteration 153, loss = 0.83384631\n",
      "Iteration 154, loss = 0.83032173\n",
      "Iteration 155, loss = 0.82679755\n",
      "Iteration 156, loss = 0.82327368\n",
      "Iteration 157, loss = 0.81975003\n",
      "Iteration 158, loss = 0.81622650\n",
      "Iteration 159, loss = 0.81270298\n",
      "Iteration 160, loss = 0.80917937\n",
      "Iteration 161, loss = 0.80565555\n",
      "Iteration 162, loss = 0.80213140\n",
      "Iteration 163, loss = 0.79860682\n",
      "Iteration 164, loss = 0.79508168\n",
      "Iteration 165, loss = 0.79155586\n",
      "Iteration 166, loss = 0.78802927\n",
      "Iteration 167, loss = 0.78450179\n",
      "Iteration 168, loss = 0.78097333\n",
      "Iteration 169, loss = 0.77744380\n",
      "Iteration 170, loss = 0.77391312\n",
      "Iteration 171, loss = 0.77038122\n",
      "Iteration 172, loss = 0.76684805\n",
      "Iteration 173, loss = 0.76331357\n",
      "Iteration 174, loss = 0.75977776\n",
      "Iteration 175, loss = 0.75624062\n",
      "Iteration 176, loss = 0.75270214\n",
      "Iteration 177, loss = 0.74916236\n",
      "Iteration 178, loss = 0.74562132\n",
      "Iteration 179, loss = 0.74207908\n",
      "Iteration 180, loss = 0.73853573\n",
      "Iteration 181, loss = 0.73499134\n",
      "Iteration 182, loss = 0.73144602\n",
      "Iteration 183, loss = 0.72789990\n",
      "Iteration 184, loss = 0.72435310\n",
      "Iteration 185, loss = 0.72080575\n",
      "Iteration 186, loss = 0.71725799\n",
      "Iteration 187, loss = 0.71370998\n",
      "Iteration 188, loss = 0.71016186\n",
      "Iteration 189, loss = 0.70661378\n",
      "Iteration 190, loss = 0.70306588\n",
      "Iteration 191, loss = 0.69951832\n",
      "Iteration 192, loss = 0.69597122\n",
      "Iteration 193, loss = 0.69242472\n",
      "Iteration 194, loss = 0.68887894\n",
      "Iteration 195, loss = 0.68533400\n",
      "Iteration 196, loss = 0.68179000\n",
      "Iteration 197, loss = 0.67824705\n",
      "Iteration 198, loss = 0.67470524\n",
      "Iteration 199, loss = 0.67116466\n",
      "Iteration 200, loss = 0.66762538\n"
     ]
    },
    {
     "name": "stderr",
     "output_type": "stream",
     "text": [
      "C:\\Users\\Jeferson\\Anaconda3\\lib\\site-packages\\sklearn\\neural_network\\multilayer_perceptron.py:566: ConvergenceWarning: Stochastic Optimizer: Maximum iterations (200) reached and the optimization hasn't converged yet.\n",
      "  % self.max_iter, ConvergenceWarning)\n"
     ]
    },
    {
     "data": {
      "text/plain": [
       "MLPClassifier(activation='tanh', alpha=0.0001, batch_size='auto', beta_1=0.9,\n",
       "              beta_2=0.999, early_stopping=False, epsilon=1e-08,\n",
       "              hidden_layer_sizes=(5, 5, 5), learning_rate='constant',\n",
       "              learning_rate_init=0.001, max_iter=200, momentum=0.9,\n",
       "              n_iter_no_change=10, nesterovs_momentum=True, power_t=0.5,\n",
       "              random_state=None, shuffle=True, solver='adam', tol=0.0001,\n",
       "              validation_fraction=0.1, verbose=True, warm_start=False)"
      ]
     },
     "execution_count": 20,
     "metadata": {},
     "output_type": "execute_result"
    }
   ],
   "source": [
    "mlp.fit(X_train,y_train)"
   ]
  },
  {
   "cell_type": "code",
   "execution_count": 21,
   "metadata": {},
   "outputs": [
    {
     "data": {
      "text/plain": [
       "array([3, 2, 2, 2, 2, 2, 2, 3, 3, 2, 2, 1, 1, 2, 1, 2, 1, 2, 2, 1, 1, 1,\n",
       "       2, 2, 2, 3, 3, 1, 2, 2, 2, 1, 2, 3, 1, 3, 1, 2, 1, 1, 1, 2, 2, 1,\n",
       "       2], dtype=int64)"
      ]
     },
     "execution_count": 21,
     "metadata": {},
     "output_type": "execute_result"
    }
   ],
   "source": [
    "predictions = mlp.predict(X_test)\n",
    "predictions"
   ]
  },
  {
   "cell_type": "code",
   "execution_count": 22,
   "metadata": {},
   "outputs": [
    {
     "data": {
      "text/plain": [
       "array([[14,  0,  0],\n",
       "       [ 1, 20,  0],\n",
       "       [ 0,  3,  7]], dtype=int64)"
      ]
     },
     "execution_count": 22,
     "metadata": {},
     "output_type": "execute_result"
    }
   ],
   "source": [
    "from sklearn.metrics import classification_report , confusion_matrix\n",
    "from sklearn.metrics import accuracy_score\n",
    "\n",
    "confusion_matrix(y_test, predictions)"
   ]
  },
  {
   "cell_type": "code",
   "execution_count": 23,
   "metadata": {},
   "outputs": [
    {
     "data": {
      "text/plain": [
       "91.11111111111111"
      ]
     },
     "execution_count": 23,
     "metadata": {},
     "output_type": "execute_result"
    }
   ],
   "source": [
    "acuracia = accuracy_score(y_test,predictions)\n",
    "acuracia*100"
   ]
  },
  {
   "cell_type": "code",
   "execution_count": 24,
   "metadata": {},
   "outputs": [
    {
     "name": "stdout",
     "output_type": "stream",
     "text": [
      "              precision    recall  f1-score   support\n",
      "\n",
      "           1       0.93      1.00      0.97        14\n",
      "           2       0.87      0.95      0.91        21\n",
      "           3       1.00      0.70      0.82        10\n",
      "\n",
      "    accuracy                           0.91        45\n",
      "   macro avg       0.93      0.88      0.90        45\n",
      "weighted avg       0.92      0.91      0.91        45\n",
      "\n"
     ]
    }
   ],
   "source": [
    "print(classification_report(y_test,predictions))"
   ]
  },
  {
   "cell_type": "code",
   "execution_count": 25,
   "metadata": {},
   "outputs": [
    {
     "data": {
      "text/plain": [
       "[array([[-0.03194504, -0.37390719, -0.21830331,  0.20179857,  0.08236677],\n",
       "        [ 0.04074836,  0.1296563 , -0.09161576,  0.17004413,  0.62919286],\n",
       "        [-0.50726655,  0.12454928,  0.22990546, -0.33385362,  0.01258322],\n",
       "        [ 0.72208264, -0.27922206, -0.29603277, -0.0960868 , -0.53852793],\n",
       "        [-0.25662064, -0.12901697,  0.19486349,  0.20862102, -0.2306044 ],\n",
       "        [-0.14597844,  0.34007949, -0.48284514,  0.0855718 , -0.08698457],\n",
       "        [-0.11850882, -0.01837301, -0.66886195,  0.16740353,  0.00416354],\n",
       "        [-0.03183347, -0.30907427, -0.05458836, -0.47446043, -0.14127678],\n",
       "        [-0.23927434,  0.28325092,  0.37513791,  0.60134994,  0.4139452 ],\n",
       "        [-0.71670318,  0.2865552 , -0.22003903, -0.29117903,  0.16932593],\n",
       "        [-0.04388337, -0.06497069, -0.43683339,  0.40325491, -0.04047584],\n",
       "        [-0.36425455,  0.09573087, -0.12037716,  0.36443363,  0.21613014],\n",
       "        [-0.07917983,  0.34715057,  0.1621748 ,  0.60357804,  0.60899892]]),\n",
       " array([[ 0.72058903,  0.79995599, -0.40782864, -0.58510132, -0.7541957 ],\n",
       "        [-0.03941398,  0.16845467,  0.34893108, -0.4724272 , -0.59749533],\n",
       "        [ 0.3569174 ,  0.21080797, -0.71723703,  0.57661477,  0.57832706],\n",
       "        [ 0.50156868, -0.63917616,  0.18177343, -0.16149964,  0.54773377],\n",
       "        [-0.34929796,  0.64545949, -0.38404925,  0.25462572,  0.68946936]]),\n",
       " array([[ 0.94863068,  0.56714545,  0.09838755, -0.46361894,  0.76994533],\n",
       "        [-0.0673226 , -0.81806745, -0.60074571,  0.09623441,  0.4458175 ],\n",
       "        [ 0.57077093,  0.54784506, -0.10306748, -0.58942938,  0.49956106],\n",
       "        [-0.01038283,  0.18248882,  0.49270841, -0.66485439, -0.41321603],\n",
       "        [-0.59825908,  0.71085764,  0.49038597,  0.09473205, -0.30822307]]),\n",
       " array([[-1.05582126,  0.23710259, -0.40956539],\n",
       "        [ 0.09475131, -0.65314816, -0.9793092 ],\n",
       "        [ 0.36206389, -0.12880607,  0.58833231],\n",
       "        [ 0.48168114,  0.31891843,  0.1965405 ],\n",
       "        [ 0.06344756,  0.5532367 ,  0.27272925]])]"
      ]
     },
     "execution_count": 25,
     "metadata": {},
     "output_type": "execute_result"
    }
   ],
   "source": [
    "mlp.coefs_"
   ]
  },
  {
   "cell_type": "code",
   "execution_count": 26,
   "metadata": {},
   "outputs": [
    {
     "data": {
      "image/png": "[encoded data removed]",
      "text/plain": [
       "<Figure size 432x288 with 1 Axes>"
      ]
     },
     "metadata": {
      "needs_background": "light"
     },
     "output_type": "display_data"
    }
   ],
   "source": [
    "import matplotlib.pyplot as plt\n",
    "\n",
    "plt.scatter(x=predictions, y=y_test)\n",
    "plt.show()"
   ]
  }
 ],
 "metadata": {
  "kernelspec": {
   "display_name": "Python 3",
   "language": "python",
   "name": "python3"
  },
  "language_info": {
   "codemirror_mode": {
    "name": "ipython",
    "version": 3
   },
   "file_extension": ".py",
   "mimetype": "text/x-python",
   "name": "python",
   "nbconvert_exporter": "python",
   "pygments_lexer": "ipython3",
   "version": "3.7.3"
  }
 },
 "nbformat": 4,
 "nbformat_minor": 2
}
